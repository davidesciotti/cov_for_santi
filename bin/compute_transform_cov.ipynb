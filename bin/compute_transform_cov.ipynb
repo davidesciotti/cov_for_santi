{
 "cells": [
  {
   "cell_type": "code",
   "execution_count": null,
   "id": "9acc5eef-bd2a-439e-81da-9620a030cb21",
   "metadata": {
    "pycharm": {
     "is_executing": true
    }
   },
   "outputs": [],
   "source": [
    "import sys\n",
    "import time\n",
    "from pathlib import Path\n",
    "import matplotlib\n",
    "import matplotlib.pyplot as plt\n",
    "import numpy as np\n",
    "\n",
    "sys.path.append('../lib')\n",
    "import utils"
   ]
  },
  {
   "cell_type": "code",
   "execution_count": null,
   "id": "764d118e-6192-4bab-8bb9-11943fe0c81b",
   "metadata": {},
   "outputs": [],
   "source": [
    "%load_ext autoreload\n",
    "%autoreload 2\n",
    "%matplotlib inline"
   ]
  },
  {
   "cell_type": "code",
   "execution_count": null,
   "id": "d728f34a-1c4f-4ae5-abfc-969d956862fb",
   "metadata": {},
   "outputs": [],
   "source": [
    "def build_X_matrix_BNT(BNT_matrix):\n",
    "    \"\"\"\n",
    "    Builds the X matrix for the BNT transform, according to eq.\n",
    "    :param BNT_matrix:\n",
    "    :return:\n",
    "    \"\"\"\n",
    "    X = {}\n",
    "    delta_kron = np.eye(BNT_matrix.shape[0])\n",
    "    X['L', 'L'] = np.einsum('ae, bf -> aebf', BNT_matrix, BNT_matrix)\n",
    "    X['G', 'G'] = np.einsum('ae, bf -> aebf', delta_kron, delta_kron)\n",
    "    X['G', 'L'] = np.einsum('ae, bf -> aebf', delta_kron, BNT_matrix)\n",
    "    X['L', 'G'] = np.einsum('ae, bf -> aebf', BNT_matrix, delta_kron)\n",
    "    return X\n",
    "\n",
    "\n",
    "def cov_BNT_transform(cov_noBNT_6D, X_dict, probe_A, probe_B, probe_C, probe_D, optimize=True):\n",
    "    \"\"\"same as above, but only for one probe (i.e., LL or GL: GG is not modified by the BNT)\"\"\"\n",
    "    # todo it's nicer if you sandwitch the covariance, maybe? That is, X cov X instead of X X cov\n",
    "    cov_BNT_6D = np.einsum('aebf, cgdh, LMefgh -> LMabcd', X_dict[probe_A, probe_B], X_dict[probe_C, probe_D],\n",
    "                           cov_noBNT_6D, optimize=optimize)\n",
    "    return cov_BNT_6D\n",
    "\n",
    "\n",
    "def cov_3x2pt_BNT_transform(cov_3x2pt_10D_dict, X_dict, optimize=True):\n",
    "    \"\"\"in np.einsum below, L and M are the ell1, ell2 indices, which are not touched by the BNT transform\"\"\"\n",
    "\n",
    "    cov_3x2pt_BNT_dict_10D = {}\n",
    "\n",
    "    for probe_A, probe_B, probe_C, probe_D in cov_3x2pt_10D_dict.keys():\n",
    "        cov_3x2pt_BNT_dict_10D[probe_A, probe_B, probe_C, probe_D] = \\\n",
    "            cov_BNT_transform(cov_3x2pt_10D_dict[probe_A, probe_B, probe_C, probe_D], X_dict,\n",
    "                              probe_A, probe_B, probe_C, probe_D, optimize=optimize)\n",
    "\n",
    "    return cov_3x2pt_BNT_dict_10D\n",
    "\n",
    "\n",
    "def cl_BNT_transform(cl_3D, BNT_matrix, probe_A, probe_B):\n",
    "    assert cl_3D.ndim == 3, 'cl_3D must be 3D'\n",
    "    assert BNT_matrix.ndim == 2, 'BNT_matrix must be 2D'\n",
    "    assert cl_3D.shape[1] == BNT_matrix.shape[0], 'the number of ell bins in cl_3D and BNT_matrix must be the same'\n",
    "\n",
    "    BNT_transform_dict = {\n",
    "        'L': BNT_matrix,\n",
    "        'G': np.eye(BNT_matrix.shape[0]),\n",
    "    }\n",
    "\n",
    "    cl_3D_BNT = np.zeros(cl_3D.shape)\n",
    "    for ell_idx in range(cl_3D.shape[0]):\n",
    "        cl_3D_BNT[ell_idx, :, :] = BNT_transform_dict[probe_A] @ \\\n",
    "                                   cl_3D[ell_idx, :, :] @ \\\n",
    "                                   BNT_transform_dict[probe_B].T\n",
    "\n",
    "    return cl_3D_BNT\n",
    "\n",
    "\n",
    "def cl_BNT_transform_3x2pt(cl_3x2pt_5D, BNT_matrix):\n",
    "    \"\"\"wrapper function to quickly implement the cl (or derivatives) BNT transform for the 3x2pt datavector\"\"\"\n",
    "\n",
    "    cl_3x2pt_5D_BNT = np.zeros(cl_3x2pt_5D.shape)\n",
    "    cl_3x2pt_5D_BNT[0, 0, :, :, :] = cl_BNT_transform(cl_3x2pt_5D[0, 0, :, :, :], BNT_matrix, 'L', 'L')\n",
    "    cl_3x2pt_5D_BNT[0, 1, :, :, :] = cl_BNT_transform(cl_3x2pt_5D[0, 1, :, :, :], BNT_matrix, 'L', 'G')\n",
    "    cl_3x2pt_5D_BNT[1, 0, :, :, :] = cl_BNT_transform(cl_3x2pt_5D[1, 0, :, :, :], BNT_matrix, 'G', 'L')\n",
    "    cl_3x2pt_5D_BNT[1, 1, :, :, :] = cl_3x2pt_5D[1, 1, :, :, :]  # no need to transform the GG part\n",
    "\n",
    "    return cl_3x2pt_5D_BNT"
   ]
  },
  {
   "cell_type": "code",
   "execution_count": null,
   "id": "02b72737-7944-4284-9d1b-3a9e94fc315d",
   "metadata": {},
   "outputs": [],
   "source": [
    "# ! settings\n",
    "survey_area_ISTF = 15_000  # deg^2\n",
    "deg2_in_sphere = 41252.96  # deg^2 in a spere\n",
    "\n",
    "fsky = survey_area_ISTF / deg2_in_sphere\n",
    "zbins = 10\n",
    "nbl = 20\n",
    "n_gal = 30\n",
    "sigma_eps = 0.3\n",
    "EP_or_ED = 'EP'\n",
    "GL_or_LG = 'GL'\n",
    "triu_tril = 'triu'\n",
    "row_col_major = 'row-major'\n",
    "probe_ordering = [['L', 'L'], [GL_or_LG[0], GL_or_LG[1]], ['G', 'G']]\n",
    "block_index = 'ell'\n",
    "n_probes = 2\n",
    "input_folder = 'march_2023'"
   ]
  },
  {
   "cell_type": "code",
   "execution_count": null,
   "id": "6cb2c5e0-ce0e-4d38-9259-6107ca950091",
   "metadata": {},
   "outputs": [],
   "source": [
    "ind = utils.build_full_ind(triu_tril, row_col_major, zbins)\n",
    "zpairs_auto, zpairs_cross, zpairs_3x2pt = utils.get_zpairs(zbins)"
   ]
  },
  {
   "cell_type": "code",
   "execution_count": null,
   "id": "459798ab",
   "metadata": {},
   "outputs": [],
   "source": [
    "ind_auto = ind[:zpairs_auto, :]\n",
    "ind_cross = ind[zpairs_auto:zpairs_auto + zpairs_cross, :]"
   ]
  },
  {
   "cell_type": "code",
   "execution_count": null,
   "id": "84967bdc-ac3a-4096-9cd6-78618999fc5c",
   "metadata": {},
   "outputs": [],
   "source": [
    "cl_LL_3D = np.load(f'../input/march_2023/Cl_LL.npy')\n",
    "cl_GL_3D = np.load(f'../input/march_2023/Cl_GL.npy')\n",
    "cl_GG_3D = np.load(f'../input/march_2023/Cl_GG.npy')\n",
    "\n",
    "ell_values = np.load(f'../input/ell_values.npy')\n",
    "delta_ell = np.load(f'../input/delta_ells.npy')\n",
    "BNT_matrix = np.genfromtxt('../input/BNT_matrix.txt')"
   ]
  },
  {
   "cell_type": "markdown",
   "id": "2747d3ef",
   "metadata": {},
   "source": [
    "## Check "
   ]
  },
  {
   "cell_type": "code",
   "execution_count": null,
   "id": "78891ba2-21b7-498f-a6cc-0c4cc62f70bc",
   "metadata": {},
   "outputs": [],
   "source": [
    "cl_3x2pt_5D = np.zeros((n_probes, n_probes, nbl, zbins, zbins))\n",
    "cl_3x2pt_5D[0, 0, :, :, :] = cl_LL_3D\n",
    "cl_3x2pt_5D[0, 1, :, :, :] = cl_GL_3D.transpose(0, 2, 1)\n",
    "cl_3x2pt_5D[1, 0, :, :, :] = cl_GL_3D\n",
    "cl_3x2pt_5D[1, 1, :, :, :] = cl_GG_3D"
   ]
  },
  {
   "cell_type": "code",
   "execution_count": null,
   "id": "e266bd15-d804-45d4-ace6-28d97ce144fb",
   "metadata": {},
   "outputs": [],
   "source": [
    "# create a noise with dummy axis for ell, to have the same shape as cl_3x2pt_5D\n",
    "noise_3x2pt_4D = utils.build_noise(zbins, n_probes, sigma_eps2=sigma_eps ** 2, ng=n_gal, EP_or_ED=EP_or_ED)\n",
    "noise_3x2pt_5D = np.zeros((n_probes, n_probes, nbl, zbins, zbins))\n",
    "for probe_A in (0, 1):\n",
    "    for probe_B in (0, 1):\n",
    "        for ell_idx in range(nbl):\n",
    "            noise_3x2pt_5D[probe_A, probe_B, ell_idx, :, :] = noise_3x2pt_4D[probe_A, probe_B, ...]\n",
    "\n",
    "# 5d versions of auto.probe data and spectra\n",
    "cl_LL_5D = cl_LL_3D[np.newaxis, np.newaxis, ...]\n",
    "noise_LL_5D = noise_3x2pt_5D[0, 0, ...][np.newaxis, np.newaxis, ...]"
   ]
  },
  {
   "cell_type": "markdown",
   "id": "bdfcb83d-981e-40a8-a1d6-e064d043411e",
   "metadata": {},
   "source": [
    "### Regular (no BNT) covariance"
   ]
  },
  {
   "cell_type": "code",
   "execution_count": null,
   "id": "7d5584a9-4ff9-4d87-82bd-87deb5cd44d3",
   "metadata": {},
   "outputs": [],
   "source": [
    "# compute\n",
    "cov_WL_6D = utils.covariance_einsum(cl_LL_5D, noise_LL_5D, fsky, ell_values, delta_ell)[0, 0, 0, 0, ...]\n",
    "cov_3x2pt_10D_arr = utils.covariance_einsum(cl_3x2pt_5D, noise_3x2pt_5D, fsky, ell_values, delta_ell)\n",
    "\n",
    "# reshape to 4D\n",
    "cov_WL_4D = utils.cov_6D_to_4D(cov_WL_6D, nbl, zpairs_auto, ind[:zpairs_auto])\n",
    "cov_3x2pt_10D_dict = utils.cov_10D_array_to_dict(cov_3x2pt_10D_arr)  # not important, equivalent to the array above\n",
    "cov_3x2pt_4D = utils.cov_3x2pt_dict_10D_to_4D(cov_3x2pt_10D_dict, probe_ordering, nbl, zbins, ind.copy(), GL_or_LG)\n",
    "\n",
    "# reshape to 2D\n",
    "cov_WL_2D = utils.cov_4D_to_2D(cov_WL_4D, block_index=block_index)\n",
    "cov_3x2pt_2D = utils.cov_4D_to_2D(cov_3x2pt_4D, block_index=block_index)\n",
    "cov_3x2pt_2DCLOE = utils.cov_4D_to_2DCLOE_3x2pt(cov_3x2pt_4D, nbl, zbins)"
   ]
  },
  {
   "cell_type": "markdown",
   "id": "43c9be40-eeee-46b0-97b1-e50286d9b36f",
   "metadata": {},
   "source": [
    "### BNT covariance"
   ]
  },
  {
   "cell_type": "code",
   "execution_count": null,
   "id": "b9e9f2ec-03c6-46de-b1b5-42029b1b6b0e",
   "metadata": {},
   "outputs": [],
   "source": [
    "# transform (I need the 3x2pt dictionary for the BNT covariance)\n",
    "X_dict = build_X_matrix_BNT(BNT_matrix)\n",
    "cov_WL_BNTcov_6D = cov_BNT_transform(cov_WL_6D, X_dict, 'L', 'L', 'L', 'L')\n",
    "cov_3x2pt_BNTcov_10D_dict = cov_3x2pt_BNT_transform(cov_3x2pt_10D_dict, X_dict)\n",
    "\n",
    "# reshape to 4D\n",
    "cov_WL_BNTcov_4D = utils.cov_6D_to_4D(cov_WL_BNTcov_6D, nbl, zpairs_auto, ind[:zpairs_auto])\n",
    "cov_3x2pt_BNTcov_4D = utils.cov_3x2pt_dict_10D_to_4D(cov_3x2pt_BNTcov_10D_dict, probe_ordering, nbl, zbins, ind.copy(),\n",
    "                                                  GL_or_LG)\n",
    "# reshape to 2D\n",
    "cov_WL_BNTcov_2D = utils.cov_4D_to_2D(cov_WL_BNTcov_4D, block_index=block_index)\n",
    "cov_3x2pt_BNTcov_2D = utils.cov_4D_to_2D(cov_3x2pt_BNTcov_4D, block_index=block_index)\n",
    "cov_3x2pt_BNTcov_2DCLOE = utils.cov_4D_to_2DCLOE_3x2pt(cov_3x2pt_BNTcov_4D, nbl, zbins)"
   ]
  },
  {
   "cell_type": "code",
   "execution_count": null,
   "id": "7df2be47-5622-44d6-988b-a280a347e737",
   "metadata": {},
   "outputs": [],
   "source": [
    "utils.compare_arrays(cov_3x2pt_2DCLOE, cov_3x2pt_BNTcov_2DCLOE, 'cov_3x2pt_2DCLOE', 'cov_3x2pt_BNTcov_2DCLOE',\n",
    "                  plot_array=True, log_array=True)"
   ]
  },
  {
   "cell_type": "markdown",
   "id": "9e6baa62-d218-412f-a542-fb5b4e4aadd5",
   "metadata": {},
   "source": [
    "### BNT covariance with BNT cls"
   ]
  },
  {
   "cell_type": "code",
   "execution_count": null,
   "id": "d4f08fc5-faea-4fc4-b557-38eda573de64",
   "metadata": {},
   "outputs": [],
   "source": [
    "# transform cls AND NOISE\n",
    "cl_LL_BNT_3D = cl_BNT_transform(cl_LL_3D, BNT_matrix, 'L', 'L')\n",
    "noise_LL_BNT_3D = cl_BNT_transform(noise_LL_5D[0, 0, ...], BNT_matrix, 'L', 'L')\n",
    "cl_3x2pt_BNT_5D = cl_BNT_transform_3x2pt(cl_3x2pt_5D, BNT_matrix)\n",
    "noise_3x2pt_BNT_5D = cl_BNT_transform_3x2pt(noise_3x2pt_5D, BNT_matrix)\n",
    "\n",
    "# compute cov\n",
    "cl_LL_BNT_5D = cl_LL_BNT_3D[np.newaxis, np.newaxis, ...]\n",
    "noise_LL_BNT_5D = noise_LL_BNT_3D[np.newaxis, np.newaxis, ...]\n",
    "cov_WL_BNTcl_6D = utils.covariance_einsum(cl_LL_BNT_5D, noise_LL_BNT_5D, fsky, ell_values, delta_ell)[0, 0, 0, 0, ...]\n",
    "cov_3x2pt_BNTcl_10D_arr = utils.covariance_einsum(cl_3x2pt_BNT_5D, noise_3x2pt_BNT_5D, fsky, ell_values, delta_ell)"
   ]
  },
  {
   "cell_type": "code",
   "execution_count": null,
   "id": "f34eaf58-e530-45e3-be93-4f300f74920c",
   "metadata": {},
   "outputs": [],
   "source": [
    "# reshape to 4D\n",
    "cov_WL_BNTcl_4D = utils.cov_6D_to_4D(cov_WL_BNTcl_6D, nbl, zpairs_auto, ind[:zpairs_auto])\n",
    "cov_3x2pt_BNTcl_10D_dict = utils.cov_10D_array_to_dict(cov_3x2pt_BNTcl_10D_arr)  # not important, equivalent to the array above\n",
    "cov_3x2pt_BNTcl_4D = utils.cov_3x2pt_dict_10D_to_4D(cov_3x2pt_BNTcl_10D_dict, probe_ordering, nbl, zbins, ind.copy(), GL_or_LG)\n",
    "\n",
    "# reshape to 2D\n",
    "cov_WL_BNTcl_2D = utils.cov_4D_to_2D(cov_WL_BNTcl_4D, block_index=block_index)\n",
    "cov_3x2pt_BNTcl_2D = utils.cov_4D_to_2D(cov_3x2pt_BNTcl_4D, block_index=block_index)\n",
    "cov_3x2pt_BNTcl_2DCLOE = utils.cov_4D_to_2DCLOE_3x2pt(cov_3x2pt_BNTcl_4D, nbl, zbins)"
   ]
  },
  {
   "cell_type": "markdown",
   "id": "42e632d7-83d0-4ec3-8987-e3f7482f72ad",
   "metadata": {},
   "source": [
    "## BNT cov vs. cov with BNT cls\n",
    "There is a very small number of outliers with a large discrepancy (barely visible in the plot on the r.h.s.)"
   ]
  },
  {
   "cell_type": "code",
   "execution_count": null,
   "id": "33939c92-2e46-4d2e-a509-38a8ecd88cc7",
   "metadata": {},
   "outputs": [],
   "source": [
    "utils.compare_arrays(cov_3x2pt_BNTcov_2DCLOE, cov_3x2pt_BNTcl_2DCLOE, 'cov_3x2pt_BNTcov_2DCLOE', 'cov_3x2pt_BNTcl_2DCLOE',\n",
    "                  plot_array=True, log_array=True,\n",
    "                  plot_diff=True, log_diff=False, plot_diff_threshold=5)"
   ]
  },
  {
   "cell_type": "code",
   "execution_count": null,
   "id": "edb2291a-358f-4aea-b5b3-2c99568db351",
   "metadata": {},
   "outputs": [],
   "source": [
    "np.savez_compressed('../output/cov_3x2pt_2D.npz', cov_3x2pt_2D)\n",
    "np.savez_compressed('../output/cov_3x2pt_BNTcov_2D.npz', cov_3x2pt_BNTcov_2D)\n",
    "\n",
    "# format used by CLOE \n",
    "np.savez_compressed('../output/cov_3x2pt_2DCLOE.npz', cov_3x2pt_2DCLOE)\n",
    "np.savez_compressed('../output/cov_3x2pt_BNTcov_2DCLOE.npz', cov_3x2pt_BNTcov_2DCLOE)"
   ]
  },
  {
   "cell_type": "code",
   "execution_count": null,
   "id": "f0a64def-685e-4b5d-881e-21acb66c10fc",
   "metadata": {},
   "outputs": [],
   "source": []
  },
  {
   "attachments": {},
   "cell_type": "markdown",
   "id": "20848518",
   "metadata": {},
   "source": [
    "# Test $\\chi^2$ with and without BNT"
   ]
  },
  {
   "cell_type": "code",
   "execution_count": null,
   "id": "d3aee69c",
   "metadata": {},
   "outputs": [],
   "source": [
    "BNT_transform_davide = False"
   ]
  },
  {
   "cell_type": "code",
   "execution_count": null,
   "id": "9be1bc99",
   "metadata": {},
   "outputs": [],
   "source": [
    "# import the data and theory vectors - here, \"data\" is from the benchmark datavector, which could be outdated\n",
    "cl_LL_theory_3D = np.load('../input/test_chi2/from_photo_class/cloetheory_Cl_3d_LL.npy')\n",
    "cl_GL_theory_3D = np.load('../input/test_chi2/from_photo_class/cloetheory_Cl_3d_GL.npy')\n",
    "cl_GG_theory_3D = np.load('../input/test_chi2/from_photo_class/cloetheory_Cl_3d_GG.npy')\n",
    "\n",
    "cl_LL_data_3D = np.load('../input/test_chi2/from_photo_class/cloedata_Cl_3d_LL.npy') \n",
    "cl_GL_data_3D = np.load('../input/test_chi2/from_photo_class/cloedata_Cl_3d_GL.npy')\n",
    "cl_GG_data_3D = np.load('../input/test_chi2/from_photo_class/cloedata_Cl_3d_GG.npy')"
   ]
  },
  {
   "cell_type": "code",
   "execution_count": null,
   "id": "cd6ae7c2",
   "metadata": {},
   "outputs": [],
   "source": [
    "# import the data and theory vectors - here, \"data\" is from the Photo class, with ns = 0.9 instead of 0.96\n",
    "cl_LL_theory_3D = np.load('../input/test_chi2/from_photo_class/cloetheory_Cl_3d_LL_nsfid.npy')\n",
    "cl_GL_theory_3D = np.load('../input/test_chi2/from_photo_class/cloetheory_Cl_3d_GL_nsfid.npy')\n",
    "cl_GG_theory_3D = np.load('../input/test_chi2/from_photo_class/cloetheory_Cl_3d_GG_nsfid.npy')\n",
    "\n",
    "cl_LL_data_3D = np.load('../input/test_chi2/from_photo_class/cloetheory_Cl_3d_LL_nsmod.npy') \n",
    "cl_GL_data_3D = np.load('../input/test_chi2/from_photo_class/cloetheory_Cl_3d_GL_nsmod.npy')\n",
    "cl_GG_data_3D = np.load('../input/test_chi2/from_photo_class/cloetheory_Cl_3d_GG_nsmod.npy')"
   ]
  },
  {
   "cell_type": "code",
   "execution_count": null,
   "id": "63934f9d",
   "metadata": {},
   "outputs": [],
   "source": [
    "# same thing, but BNT-transformed in the Photo class (should be the cleaner way)\n",
    "cl_LL_theory_BNT_3D = np.load('../input/test_chi2/from_photo_class/cloetheory_Cl_3d_LL_nsfid_BNT.npy')\n",
    "cl_GL_theory_BNT_3D = np.load('../input/test_chi2/from_photo_class/cloetheory_Cl_3d_GL_nsfid_BNT.npy')\n",
    "cl_GG_theory_BNT_3D = np.load('../input/test_chi2/from_photo_class/cloetheory_Cl_3d_GG_nsfid_BNT.npy')\n",
    "\n",
    "cl_LL_data_BNT_3D = np.load('../input/test_chi2/from_photo_class/cloetheory_Cl_3d_LL_nsmod_BNT.npy') \n",
    "cl_GL_data_BNT_3D = np.load('../input/test_chi2/from_photo_class/cloetheory_Cl_3d_GL_nsmod_BNT.npy')\n",
    "cl_GG_data_BNT_3D = np.load('../input/test_chi2/from_photo_class/cloetheory_Cl_3d_GG_nsmod_BNT.npy')"
   ]
  },
  {
   "cell_type": "code",
   "execution_count": null,
   "id": "324d8e35",
   "metadata": {},
   "outputs": [],
   "source": [
    "print('is theory == theory_BNT?', np.all(cl_LL_theory_3D == cl_LL_theory_BNT_3D))\n",
    "print('is data == data_BNT?', np.all(cl_LL_data_3D == cl_LL_data_BNT_3D))"
   ]
  },
  {
   "cell_type": "code",
   "execution_count": null,
   "id": "f1ffdb79",
   "metadata": {},
   "outputs": [],
   "source": [
    "for zi in range(zbins):\n",
    "    plt.loglog(ell_values, cl_LL_data_BNT_3D[:, zi, zi], label='cl_LL_data_BNT_3D')\n",
    "    plt.loglog(ell_values, cl_LL_data_3D[:, zi, zi], label='cl_LL_data_3D', ls='--')\n",
    "plt.legend()"
   ]
  },
  {
   "cell_type": "code",
   "execution_count": null,
   "id": "83193de7",
   "metadata": {},
   "outputs": [],
   "source": [
    "# create 3x2pt data vectors\n",
    "cl_3x2pt_theory_5D = np.zeros((n_probes, n_probes, nbl, zbins, zbins))\n",
    "cl_3x2pt_theory_5D[0, 0, :, :, :] = cl_LL_theory_3D\n",
    "cl_3x2pt_theory_5D[0, 1, :, :, :] = cl_GL_theory_3D.transpose(0, 2, 1)\n",
    "cl_3x2pt_theory_5D[1, 0, :, :, :] = cl_GL_theory_3D\n",
    "cl_3x2pt_theory_5D[1, 1, :, :, :] = cl_GG_theory_3D\n",
    "\n",
    "cl_3x2pt_data_5D = np.zeros((n_probes, n_probes, nbl, zbins, zbins))\n",
    "cl_3x2pt_data_5D[0, 0, :, :, :] = cl_LL_data_3D\n",
    "cl_3x2pt_data_5D[0, 1, :, :, :] = cl_GL_data_3D.transpose(0, 2, 1)\n",
    "cl_3x2pt_data_5D[1, 0, :, :, :] = cl_GL_data_3D\n",
    "cl_3x2pt_data_5D[1, 1, :, :, :] = cl_GG_data_3D"
   ]
  },
  {
   "cell_type": "code",
   "execution_count": null,
   "id": "2c578654",
   "metadata": {},
   "outputs": [],
   "source": [
    "# BNT transform data and theory vectors\n",
    "if BNT_transform_davide:\n",
    "    cl_3x2pt_theory_BNT_5D = cl_BNT_transform_3x2pt(cl_3x2pt_theory_5D, BNT_matrix)\n",
    "    cl_3x2pt_data_BNT_5D = cl_BNT_transform_3x2pt(cl_3x2pt_data_5D, BNT_matrix)    \n",
    "else:\n",
    "    # BNT-transformed by CLOE\n",
    "    cl_3x2pt_theory_BNT_5D = np.zeros((n_probes, n_probes, nbl, zbins, zbins))\n",
    "    cl_3x2pt_theory_BNT_5D[0, 0, :, :, :] = cl_LL_theory_BNT_3D\n",
    "    cl_3x2pt_theory_BNT_5D[0, 1, :, :, :] = cl_GL_theory_BNT_3D.transpose(0, 2, 1)\n",
    "    cl_3x2pt_theory_BNT_5D[1, 0, :, :, :] = cl_GL_theory_BNT_3D\n",
    "    cl_3x2pt_theory_BNT_5D[1, 1, :, :, :] = cl_GG_theory_BNT_3D\n",
    "\n",
    "    cl_3x2pt_data_BNT_5D = np.zeros((n_probes, n_probes, nbl, zbins, zbins))\n",
    "    cl_3x2pt_data_BNT_5D[0, 0, :, :, :] = cl_LL_data_BNT_3D\n",
    "    cl_3x2pt_data_BNT_5D[0, 1, :, :, :] = cl_GL_data_BNT_3D.transpose(0, 2, 1)\n",
    "    cl_3x2pt_data_BNT_5D[1, 0, :, :, :] = cl_GL_data_BNT_3D\n",
    "    cl_3x2pt_data_BNT_5D[1, 1, :, :, :] = cl_GG_data_BNT_3D"
   ]
  },
  {
   "cell_type": "code",
   "execution_count": null,
   "id": "0c45fcd1",
   "metadata": {},
   "outputs": [],
   "source": [
    "# compute data covariance\n",
    "cov_3x2pt_10D_arr = utils.covariance_einsum(cl_3x2pt_data_5D, noise_3x2pt_5D, fsky, ell_values, delta_ell)\n",
    "\n",
    "# convenience variables, for better readability\n",
    "cl_LL_data_5D = cl_3x2pt_data_5D[0, 0, :, :, :][None, None, ...]\n",
    "noise_LL_5D = noise_3x2pt_5D[0, 0, :, :, :][None, None, ...]\n",
    "cov_WL_6D = utils.covariance_einsum(cl_LL_data_5D, noise_LL_5D, fsky, ell_values, delta_ell)[0, 0, 0, 0, ...]\n",
    "\n",
    "# BNT transform covariance\n",
    "X_dict = build_X_matrix_BNT(BNT_matrix)\n",
    "cov_3x2pt_10D_dict = utils.cov_10D_array_to_dict(cov_3x2pt_10D_arr)  # not important, equivalent to the array above\n",
    "cov_3x2pt_BNT_10D_dict = cov_3x2pt_BNT_transform(cov_3x2pt_10D_dict, X_dict)\n",
    "cov_WL_BNT_6D = cov_BNT_transform(cov_WL_6D, X_dict, 'L', 'L', 'L', 'L')\n",
    "\n",
    "# reshape to 4D\n",
    "cov_3x2pt_4D = utils.cov_3x2pt_dict_10D_to_4D(cov_3x2pt_10D_dict, probe_ordering, nbl, zbins, ind.copy(), GL_or_LG)\n",
    "cov_3x2pt_BNT_4D = utils.cov_3x2pt_dict_10D_to_4D(cov_3x2pt_BNT_10D_dict, probe_ordering, nbl, zbins, ind.copy(), GL_or_LG)\n",
    "cov_WL_4D = utils.cov_6D_to_4D(cov_WL_6D, nbl, zpairs_auto, ind_auto)\n",
    "cov_WL_BNT_4D = utils.cov_6D_to_4D(cov_WL_BNT_6D, nbl, zpairs_auto, ind_auto)\n",
    "\n",
    "# reshape to 2D\n",
    "cov_3x2pt_2DCLOE = utils.cov_4D_to_2DCLOE_3x2pt(cov_3x2pt_4D, nbl, zbins)\n",
    "cov_3x2pt_BNT_2DCLOE = utils.cov_4D_to_2DCLOE_3x2pt(cov_3x2pt_BNT_4D, nbl, zbins)\n",
    "cov_WL_2D = utils.cov_4D_to_2D(cov_WL_4D, block_index=block_index)\n",
    "cov_WL_BNT_2D = utils.cov_4D_to_2D(cov_WL_BNT_4D, block_index=block_index)\n"
   ]
  },
  {
   "cell_type": "code",
   "execution_count": null,
   "id": "4de381c8",
   "metadata": {},
   "outputs": [],
   "source": [
    "# utils.compare_arrays(cov_3x2pt_2DCLOE, cov_3x2pt_BNT_2DCLOE, \n",
    "#                      'cov_3x2pt_2DCLOE', 'cov_3x2pt_BNT_2DCLOE',\n",
    "#                     plot_array=True, log_array=True,\n",
    "#                   plot_diff=False, log_diff=False, plot_diff_threshold=5)"
   ]
  },
  {
   "cell_type": "code",
   "execution_count": null,
   "id": "c051e639",
   "metadata": {},
   "outputs": [],
   "source": [
    "# flatten the 3x2pt theory and data vectors (flatten first, then concatenate the probes in this covariance ordering)\n",
    "cl_LL_theory_1D = utils.cl_3D_to_1D(cl_3x2pt_theory_5D[0, 0, :, :, :], ind_auto, is_auto_spectrum=True, block_index='ell', use_triu_row_major=True)\n",
    "cl_GL_theory_1D = utils.cl_3D_to_1D(cl_3x2pt_theory_5D[1, 0, :, :, :], ind_cross, is_auto_spectrum=False, block_index='ell', use_triu_row_major=True)\n",
    "cl_GG_theory_1D = utils.cl_3D_to_1D(cl_3x2pt_theory_5D[1, 1, :, :, :], ind_auto, is_auto_spectrum=True, block_index='ell', use_triu_row_major=True)\n",
    "\n",
    "cl_LL_data_1D = utils.cl_3D_to_1D(cl_3x2pt_data_5D[0, 0, :, :, :], ind_auto, is_auto_spectrum=True, block_index='ell', use_triu_row_major=True)\n",
    "cl_GL_data_1D = utils.cl_3D_to_1D(cl_3x2pt_data_5D[1, 0, :, :, :], ind_cross, is_auto_spectrum=False, block_index='ell', use_triu_row_major=True)\n",
    "cl_GG_data_1D = utils.cl_3D_to_1D(cl_3x2pt_data_5D[1, 1, :, :, :], ind_auto, is_auto_spectrum=True, block_index='ell', use_triu_row_major=True)\n",
    "\n",
    "cl_LL_theory_BNT_1D = utils.cl_3D_to_1D(cl_3x2pt_theory_BNT_5D[0, 0, :, :, :], ind_auto, is_auto_spectrum=True, block_index='ell', use_triu_row_major=True)\n",
    "cl_GL_theory_BNT_1D = utils.cl_3D_to_1D(cl_3x2pt_theory_BNT_5D[1, 0, :, :, :], ind_cross, is_auto_spectrum=False, block_index='ell', use_triu_row_major=True)\n",
    "cl_GG_theory_BNT_1D = utils.cl_3D_to_1D(cl_3x2pt_theory_BNT_5D[1, 1, :, :, :], ind_auto, is_auto_spectrum=True, block_index='ell', use_triu_row_major=True)\n",
    "\n",
    "cl_LL_data_BNT_1D = utils.cl_3D_to_1D(cl_3x2pt_data_BNT_5D[0, 0, :, :, :], ind_auto, is_auto_spectrum=True, block_index='ell', use_triu_row_major=True)\n",
    "cl_GL_data_BNT_1D = utils.cl_3D_to_1D(cl_3x2pt_data_BNT_5D[1, 0, :, :, :], ind_cross, is_auto_spectrum=False, block_index='ell', use_triu_row_major=True)\n",
    "cl_GG_data_BNT_1D = utils.cl_3D_to_1D(cl_3x2pt_data_BNT_5D[1, 1, :, :, :], ind_auto, is_auto_spectrum=True, block_index='ell', use_triu_row_major=True)"
   ]
  },
  {
   "cell_type": "code",
   "execution_count": null,
   "id": "8fc085f8",
   "metadata": {},
   "outputs": [],
   "source": [
    "# # flatten the 3x2pt theory and data vectors (flatten first, then concatenate the probes in this covariance ordering)\n",
    "# # ! TODO debug this\n",
    "# cl_LL_theory_1D = utils.cl_3D_to_2D_or_1D(cl_3x2pt_theory_5D[0, 0, :, :, :], ind, is_auto_spectrum=True, use_triu_row_major=True, convert_to_2D=False, block_index='ell')\n",
    "# cl_GL_theory_1D = utils.cl_3D_to_2D_or_1D(cl_3x2pt_theory_5D[1, 0, :, :, :], ind, is_auto_spectrum=False, use_triu_row_major=True, convert_to_2D=False, block_index='ell')\n",
    "# cl_GG_theory_1D = utils.cl_3D_to_2D_or_1D(cl_3x2pt_theory_5D[1, 1, :, :, :], ind, is_auto_spectrum=True, use_triu_row_major=True, convert_to_2D=False, block_index='ell')\n",
    "\n",
    "# cl_LL_data_1D = utils.cl_3D_to_2D_or_1D(cl_3x2pt_data_5D[0, 0, :, :, :], ind, is_auto_spectrum=True, use_triu_row_major=True, convert_to_2D=False, block_index='ell')\n",
    "# cl_GL_data_1D = utils.cl_3D_to_2D_or_1D(cl_3x2pt_data_5D[1, 0, :, :, :], ind, is_auto_spectrum=False, use_triu_row_major=True, convert_to_2D=False, block_index='ell')\n",
    "# cl_GG_data_1D = utils.cl_3D_to_2D_or_1D(cl_3x2pt_data_5D[1, 1, :, :, :], ind, is_auto_spectrum=True, use_triu_row_major=True, convert_to_2D=False, block_index='ell')\n",
    "\n",
    "# cl_LL_theory_BNT_1D = utils.cl_3D_to_2D_or_1D(cl_3x2pt_theory_BNT_5D[0, 0, :, :, :], ind, is_auto_spectrum=True, use_triu_row_major=True, convert_to_2D=False, block_index='ell')\n",
    "# cl_GL_theory_BNT_1D = utils.cl_3D_to_2D_or_1D(cl_3x2pt_theory_BNT_5D[1, 0, :, :, :], ind, is_auto_spectrum=False, use_triu_row_major=True, convert_to_2D=False, block_index='ell')\n",
    "# cl_GG_theory_BNT_1D = utils.cl_3D_to_2D_or_1D(cl_3x2pt_theory_BNT_5D[1, 1, :, :, :], ind, is_auto_spectrum=True, use_triu_row_major=True, convert_to_2D=False, block_index='ell')\n",
    "\n",
    "# cl_LL_data_BNT_1D = utils.cl_3D_to_2D_or_1D(cl_3x2pt_data_BNT_5D[0, 0, :, :, :], ind, is_auto_spectrum=True, use_triu_row_major=True, convert_to_2D=False, block_index='ell')\n",
    "# cl_GL_data_BNT_1D = utils.cl_3D_to_2D_or_1D(cl_3x2pt_data_BNT_5D[1, 0, :, :, :], ind, is_auto_spectrum=False, use_triu_row_major=True, convert_to_2D=False, block_index='ell')\n",
    "# cl_GG_data_BNT_1D = utils.cl_3D_to_2D_or_1D(cl_3x2pt_data_BNT_5D[1, 1, :, :, :], ind, is_auto_spectrum=True, use_triu_row_major=True, convert_to_2D=False, block_index='ell')"
   ]
  },
  {
   "cell_type": "code",
   "execution_count": null,
   "id": "7ff9d837",
   "metadata": {},
   "outputs": [],
   "source": [
    "# concatenate\n",
    "cl_3x2pt_theory_1D = np.concatenate((cl_LL_theory_1D, cl_GL_theory_1D, cl_GG_theory_1D))\n",
    "cl_3x2pt_data_1D = np.concatenate((cl_LL_data_1D, cl_GL_data_1D, cl_GG_data_1D))\n",
    "\n",
    "cl_3x2pt_theory_BNT_1D = np.concatenate((cl_LL_theory_BNT_1D, cl_GL_theory_BNT_1D, cl_GG_theory_BNT_1D))\n",
    "cl_3x2pt_data_BNT_1D = np.concatenate((cl_LL_data_BNT_1D, cl_GL_data_BNT_1D, cl_GG_data_BNT_1D))"
   ]
  },
  {
   "cell_type": "code",
   "execution_count": null,
   "id": "60e00b2f",
   "metadata": {},
   "outputs": [],
   "source": [
    "# BNT transform covariance\n",
    "X_dict = build_X_matrix_BNT(BNT_matrix)\n",
    "cov_WL_BNT_6D = cov_BNT_transform(cov_WL_6D, X_dict, 'L', 'L', 'L', 'L')\n",
    "cov_3x2pt_BNT_10D_dict = cov_3x2pt_BNT_transform(cov_3x2pt_10D_dict, X_dict)\n",
    "\n",
    "# reshape to 4D\n",
    "cov_WL_BNT_4D = utils.cov_6D_to_4D(cov_WL_BNT_6D, nbl, zpairs_auto, ind[:zpairs_auto])\n",
    "cov_3x2pt_BNT_4D = utils.cov_3x2pt_dict_10D_to_4D(cov_3x2pt_BNT_10D_dict, probe_ordering, nbl, zbins, ind.copy(), GL_or_LG)\n",
    "\n",
    "# reshape to 2D\n",
    "cov_WL_BNT_2D = utils.cov_4D_to_2D(cov_WL_BNT_4D, block_index=block_index)\n",
    "cov_3x2pt_BNT_2DCLOE = utils.cov_4D_to_2DCLOE_3x2pt(cov_3x2pt_BNT_4D, nbl, zbins)"
   ]
  },
  {
   "cell_type": "code",
   "execution_count": null,
   "id": "fea65b60",
   "metadata": {},
   "outputs": [],
   "source": [
    "# compute chi2\n",
    "chi2_3x2pt_noBNT = (cl_3x2pt_data_1D - cl_3x2pt_theory_1D) @ np.linalg.inv(cov_3x2pt_2DCLOE) @ (cl_3x2pt_data_1D - cl_3x2pt_theory_1D)\n",
    "chi2_3x2pt_BNT = (cl_3x2pt_data_BNT_1D - cl_3x2pt_theory_BNT_1D) @ np.linalg.inv(cov_3x2pt_BNT_2DCLOE) @ (cl_3x2pt_data_BNT_1D - cl_3x2pt_theory_BNT_1D)\n",
    "\n",
    "chi2_LL_noBNT = (cl_LL_data_1D - cl_LL_theory_1D) @ np.linalg.inv(cov_WL_2D) @ (cl_LL_data_1D - cl_LL_theory_1D)\n",
    "chi2_LL_BNT = (cl_LL_data_BNT_1D - cl_LL_theory_BNT_1D) @ np.linalg.inv(cov_WL_BNT_2D) @ (cl_LL_data_BNT_1D - cl_LL_theory_BNT_1D)"
   ]
  },
  {
   "cell_type": "code",
   "execution_count": null,
   "id": "c83dab58",
   "metadata": {},
   "outputs": [],
   "source": [
    "print('chi squared 3x2pt, no BNT = ', chi2_3x2pt_noBNT)\n",
    "print('chi squared 3x2pt, BNT = ', chi2_3x2pt_BNT)\n",
    "print('chi squared LL, no BNT = ', chi2_LL_noBNT)\n",
    "print('chi squared LL, BNT = ', chi2_LL_BNT)"
   ]
  }
 ],
 "metadata": {
  "kernelspec": {
   "display_name": "Python 3 (ipykernel)",
   "language": "python",
   "name": "python3"
  },
  "language_info": {
   "codemirror_mode": {
    "name": "ipython",
    "version": 3
   },
   "file_extension": ".py",
   "mimetype": "text/x-python",
   "name": "python",
   "nbconvert_exporter": "python",
   "pygments_lexer": "ipython3",
   "version": "3.9.13"
  }
 },
 "nbformat": 4,
 "nbformat_minor": 5
}
