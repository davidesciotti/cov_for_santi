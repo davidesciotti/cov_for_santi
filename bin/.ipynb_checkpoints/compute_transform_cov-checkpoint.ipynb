{
 "cells": [
  {
   "cell_type": "code",
   "execution_count": 2,
   "id": "9acc5eef-bd2a-439e-81da-9620a030cb21",
   "metadata": {},
   "outputs": [
    {
     "ename": "ModuleNotFoundError",
     "evalue": "No module named 'ISTF_fid_params'",
     "output_type": "error",
     "traceback": [
      "\u001b[0;31m---------------------------------------------------------------------------\u001b[0m",
      "\u001b[0;31mModuleNotFoundError\u001b[0m                       Traceback (most recent call last)",
      "\u001b[0;32m/var/folders/l4/w0t4jccj3ys27bbg1y8nwdk00000gn/T/ipykernel_38424/1285937356.py\u001b[0m in \u001b[0;36m<cell line: 11>\u001b[0;34m()\u001b[0m\n\u001b[1;32m      9\u001b[0m \u001b[0;34m\u001b[0m\u001b[0m\n\u001b[1;32m     10\u001b[0m \u001b[0msys\u001b[0m\u001b[0;34m.\u001b[0m\u001b[0mpath\u001b[0m\u001b[0;34m.\u001b[0m\u001b[0mappend\u001b[0m\u001b[0;34m(\u001b[0m\u001b[0;34m'../lib'\u001b[0m\u001b[0;34m)\u001b[0m\u001b[0;34m\u001b[0m\u001b[0;34m\u001b[0m\u001b[0m\n\u001b[0;32m---> 11\u001b[0;31m \u001b[0;32mimport\u001b[0m \u001b[0mmy_module\u001b[0m \u001b[0;32mas\u001b[0m \u001b[0mmm\u001b[0m\u001b[0;34m\u001b[0m\u001b[0;34m\u001b[0m\u001b[0m\n\u001b[0m",
      "\u001b[0;32m~/Documents/Lavoro/Programmi/cov_for_santi/bin/../lib/my_module.py\u001b[0m in \u001b[0;36m<module>\u001b[0;34m\u001b[0m\n\u001b[1;32m     14\u001b[0m \u001b[0mroot_dir\u001b[0m \u001b[0;34m=\u001b[0m \u001b[0mPath\u001b[0m\u001b[0;34m.\u001b[0m\u001b[0mcwd\u001b[0m\u001b[0;34m(\u001b[0m\u001b[0;34m)\u001b[0m\u001b[0;34m.\u001b[0m\u001b[0mparent\u001b[0m\u001b[0;34m.\u001b[0m\u001b[0mparent\u001b[0m\u001b[0;34m.\u001b[0m\u001b[0mparent\u001b[0m\u001b[0;34m.\u001b[0m\u001b[0mparent\u001b[0m\u001b[0;34m\u001b[0m\u001b[0;34m\u001b[0m\u001b[0m\n\u001b[1;32m     15\u001b[0m \u001b[0msys\u001b[0m\u001b[0;34m.\u001b[0m\u001b[0mpath\u001b[0m\u001b[0;34m.\u001b[0m\u001b[0mappend\u001b[0m\u001b[0;34m(\u001b[0m\u001b[0mstr\u001b[0m\u001b[0;34m(\u001b[0m\u001b[0mroot_dir\u001b[0m \u001b[0;34m/\u001b[0m \u001b[0;34m'common_data/common_config'\u001b[0m\u001b[0;34m)\u001b[0m\u001b[0;34m)\u001b[0m\u001b[0;34m\u001b[0m\u001b[0;34m\u001b[0m\u001b[0m\n\u001b[0;32m---> 16\u001b[0;31m \u001b[0;32mimport\u001b[0m \u001b[0mISTF_fid_params\u001b[0m \u001b[0;32mas\u001b[0m \u001b[0mISTF_fid\u001b[0m\u001b[0;34m\u001b[0m\u001b[0;34m\u001b[0m\u001b[0m\n\u001b[0m\u001b[1;32m     17\u001b[0m \u001b[0;34m\u001b[0m\u001b[0m\n\u001b[1;32m     18\u001b[0m \u001b[0;34m\u001b[0m\u001b[0m\n",
      "\u001b[0;31mModuleNotFoundError\u001b[0m: No module named 'ISTF_fid_params'"
     ]
    }
   ],
   "source": [
    "import sys\n",
    "import time\n",
    "from pathlib import Path\n",
    "import matplotlib\n",
    "import matplotlib.pyplot as plt\n",
    "import numpy as np\n",
    "\n",
    "matplotlib.use('Qt5Agg')\n",
    "\n",
    "sys.path.append('../lib')\n",
    "import my_module as mm"
   ]
  },
  {
   "cell_type": "code",
   "execution_count": null,
   "id": "d728f34a-1c4f-4ae5-abfc-969d956862fb",
   "metadata": {},
   "outputs": [],
   "source": [
    "def build_X_matrix_BNT(BNT_matrix):\n",
    "    \"\"\"\n",
    "    Builds the X matrix for the BNT transform, according to eq.\n",
    "    :param BNT_matrix:\n",
    "    :return:\n",
    "    \"\"\"\n",
    "    X = {}\n",
    "    delta_kron = np.eye(BNT_matrix.shape[0])\n",
    "    X['L', 'L'] = np.einsum('ae, bf -> aebf', BNT_matrix, BNT_matrix)\n",
    "    X['G', 'G'] = np.einsum('ae, bf -> aebf', delta_kron, delta_kron)\n",
    "    X['G', 'L'] = np.einsum('ae, bf -> aebf', delta_kron, BNT_matrix)\n",
    "    X['L', 'G'] = np.einsum('ae, bf -> aebf', BNT_matrix, delta_kron)\n",
    "    return X\n",
    "\n",
    "\n",
    "def cov_BNT_transform(cov_noBNT_6D, X_dict, probe_A, probe_B, probe_C, probe_D, optimize=True):\n",
    "    \"\"\"same as above, but only for one probe (i.e., LL or GL: GG is not modified by the BNT)\"\"\"\n",
    "    # todo it's nicer if you sandwitch the covariance, maybe? That is, X cov X instead of X X cov\n",
    "    cov_BNT_6D = np.einsum('aebf, cgdh, LMefgh -> LMabcd', X_dict[probe_A, probe_B], X_dict[probe_C, probe_D],\n",
    "                           cov_noBNT_6D, optimize=optimize)\n",
    "    return cov_BNT_6D\n",
    "\n",
    "\n",
    "def cov_3x2pt_BNT_transform(cov_3x2pt_10D_dict, X_dict, optimize=True):\n",
    "    \"\"\"in np.einsum below, L and M are the ell1, ell2 indices, which are not touched by the BNT transform\"\"\"\n",
    "\n",
    "    cov_3x2pt_BNT_dict_10D = {}\n",
    "\n",
    "    for probe_A, probe_B, probe_C, probe_D in cov_3x2pt_10D_dict.keys():\n",
    "        cov_3x2pt_BNT_dict_10D[probe_A, probe_B, probe_C, probe_D] = \\\n",
    "            cov_BNT_transform(cov_3x2pt_10D_dict[probe_A, probe_B, probe_C, probe_D], X_dict,\n",
    "                              probe_A, probe_B, probe_C, probe_D, optimize=optimize)\n",
    "\n",
    "    return cov_3x2pt_BNT_dict_10D\n",
    "\n",
    "\n",
    "def cl_BNT_transform(cl_3D, BNT_matrix, probe_A, probe_B):\n",
    "    assert cl_3D.ndim == 3, 'cl_3D must be 3D'\n",
    "    assert BNT_matrix.ndim == 2, 'BNT_matrix must be 2D'\n",
    "    assert cl_3D.shape[1] == BNT_matrix.shape[0], 'the number of ell bins in cl_3D and BNT_matrix must be the same'\n",
    "\n",
    "    BNT_transform_dict = {\n",
    "        'L': BNT_matrix,\n",
    "        'G': np.eye(BNT_matrix.shape[0]),\n",
    "    }\n",
    "\n",
    "    cl_3D_BNT = np.zeros(cl_3D.shape)\n",
    "    for ell_idx in range(cl_3D.shape[0]):\n",
    "        cl_3D_BNT[ell_idx, :, :] = BNT_transform_dict[probe_A] @ \\\n",
    "                                   cl_3D[ell_idx, :, :] @ \\\n",
    "                                   BNT_transform_dict[probe_B].T\n",
    "\n",
    "    return cl_3D_BNT\n",
    "\n",
    "\n",
    "def cl_BNT_transform_3x2pt(cl_3x2pt_5D, BNT_matrix):\n",
    "    \"\"\"wrapper function to quickly implement the cl (or derivatives) BNT transform for the 3x2pt datavector\"\"\"\n",
    "\n",
    "    cl_3x2pt_5D_BNT = np.zeros(cl_3x2pt_5D.shape)\n",
    "    cl_3x2pt_5D_BNT[:, 0, 0, :, :] = cl_BNT_transform(cl_3x2pt_5D[:, 0, 0, :, :], BNT_matrix, 'L', 'L')\n",
    "    cl_3x2pt_5D_BNT[:, 0, 1, :, :] = cl_BNT_transform(cl_3x2pt_5D[:, 0, 1, :, :], BNT_matrix, 'L', 'G')\n",
    "    cl_3x2pt_5D_BNT[:, 1, 0, :, :] = cl_BNT_transform(cl_3x2pt_5D[:, 1, 0, :, :], BNT_matrix, 'G', 'L')\n",
    "    cl_3x2pt_5D_BNT[:, 1, 1, :, :] = cl_3x2pt_5D[:, 1, 1, :, :]  # no need to transform the GG part\n",
    "\n",
    "    return cl_3x2pt_5D_BNT"
   ]
  },
  {
   "cell_type": "code",
   "execution_count": null,
   "id": "02b72737-7944-4284-9d1b-3a9e94fc315d",
   "metadata": {},
   "outputs": [],
   "source": [
    "# ! settings\n",
    "survey_area_ISTF = 15_000  # deg^2\n",
    "deg2_in_sphere = 41252.96  # deg^2 in a spere\n",
    "\n",
    "fsky = survey_area_ISTF / deg2_in_sphere\n",
    "zbins = 10\n",
    "nbl = 20\n",
    "n_gal = 30\n",
    "sigma_eps = 0.3\n",
    "EP_or_ED = 'EP'\n",
    "GL_or_LG = 'GL'\n",
    "triu_tril = 'triu'\n",
    "row_col_major = 'row-major'\n",
    "probe_ordering = [['L', 'L'], [GL_or_LG[0], GL_or_LG[1]], ['G', 'G']]\n",
    "block_index = 'ell'\n",
    "n_probes = 2\n",
    "input_folder = 'march_2023'"
   ]
  },
  {
   "cell_type": "code",
   "execution_count": null,
   "id": "6cb2c5e0-ce0e-4d38-9259-6107ca950091",
   "metadata": {},
   "outputs": [],
   "source": [
    "ind = mm.build_full_ind(triu_tril, row_col_major, zbins)\n",
    "zpairs_auto, zpairs_cross, zpairs_3x2pt = mm.get_zpairs(zbins)"
   ]
  },
  {
   "cell_type": "code",
   "execution_count": null,
   "id": "84967bdc-ac3a-4096-9cd6-78618999fc5c",
   "metadata": {},
   "outputs": [],
   "source": [
    "cl_LL_3D = np.load(f'../input/march_2023/Cl_LL.npy')\n",
    "cl_GL_3D = np.load(f'../input/march_2023/Cl_GL.npy')\n",
    "cl_GG_3D = np.load(f'../input/march_2023/Cl_GG.npy')\n",
    "\n",
    "ell_values = np.load(f'../input/ell_values.npy')\n",
    "delta_ell = np.load(f'../input/delta_ells.npy')\n",
    "BNT_matrix = np.genfromtxt('../input/BNT_matrix.txt')"
   ]
  },
  {
   "cell_type": "code",
   "execution_count": null,
   "id": "78891ba2-21b7-498f-a6cc-0c4cc62f70bc",
   "metadata": {},
   "outputs": [],
   "source": [
    "cl_3x2pt_5D = np.zeros((n_probes, n_probes, nbl, zbins, zbins))\n",
    "cl_3x2pt_5D[0, 0, :, :, :] = cl_LL_3D\n",
    "cl_3x2pt_5D[0, 1, :, :, :] = cl_GL_3D.transpose(0, 2, 1)\n",
    "cl_3x2pt_5D[1, 0, :, :, :] = cl_GL_3D\n",
    "cl_3x2pt_5D[1, 1, :, :, :] = cl_GG_3D"
   ]
  },
  {
   "cell_type": "code",
   "execution_count": null,
   "id": "e266bd15-d804-45d4-ace6-28d97ce144fb",
   "metadata": {},
   "outputs": [],
   "source": [
    "# create a noise with dummy axis for ell, to have the same shape as cl_3x2pt_5D\n",
    "noise_3x2pt_4D = mm.build_noise(zbins, n_probes, sigma_eps2=sigma_eps ** 2, ng=n_gal, EP_or_ED=EP_or_ED)\n",
    "noise_3x2pt_5D = np.zeros((n_probes, n_probes, nbl, zbins, zbins))\n",
    "for probe_A in (0, 1):\n",
    "    for probe_B in (0, 1):\n",
    "        for ell_idx in range(nbl):\n",
    "            noise_3x2pt_5D[probe_A, probe_B, ell_idx, :, :] = noise_3x2pt_4D[probe_A, probe_B, ...]\n",
    "\n",
    "# 5d versions of auto.probe data and spectra\n",
    "cl_LL_5D = cl_LL_3D[np.newaxis, np.newaxis, ...]\n",
    "noise_LL_5D = noise_3x2pt_5D[0, 0, ...][np.newaxis, np.newaxis, ...]"
   ]
  },
  {
   "cell_type": "markdown",
   "id": "bdfcb83d-981e-40a8-a1d6-e064d043411e",
   "metadata": {},
   "source": [
    "### Regular (no BNT) covariance"
   ]
  },
  {
   "cell_type": "code",
   "execution_count": null,
   "id": "7d5584a9-4ff9-4d87-82bd-87deb5cd44d3",
   "metadata": {},
   "outputs": [],
   "source": [
    "# compute\n",
    "cov_WL_6D = mm.covariance_einsum(cl_LL_5D, noise_LL_5D, fsky, ell_values, delta_ell)[0, 0, 0, 0, ...]\n",
    "cov_3x2pt_10D_arr = mm.covariance_einsum(cl_3x2pt_5D, noise_3x2pt_5D, fsky, ell_values, delta_ell)\n",
    "\n",
    "# reshape to 4D\n",
    "cov_WL_4D = mm.cov_6D_to_4D(cov_WL_6D, nbl, zpairs_auto, ind[:zpairs_auto])\n",
    "cov_3x2pt_10D_dict = mm.cov_10D_array_to_dict(cov_3x2pt_10D_arr)  # not important, equivalent to the array above\n",
    "cov_3x2pt_4D = mm.cov_3x2pt_dict_10D_to_4D(cov_3x2pt_10D_dict, probe_ordering, nbl, zbins, ind.copy(), GL_or_LG)\n",
    "\n",
    "# reshape to 2D\n",
    "cov_WL_2D = mm.cov_4D_to_2D(cov_WL_4D, block_index=block_index)\n",
    "cov_3x2pt_2D = mm.cov_4D_to_2D(cov_3x2pt_4D, block_index=block_index)\n",
    "cov_3x2pt_2DCLOE = mm.cov_4D_to_2DCLOE_3x2pt(cov_3x2pt_4D, nbl, zbins)"
   ]
  },
  {
   "cell_type": "markdown",
   "id": "43c9be40-eeee-46b0-97b1-e50286d9b36f",
   "metadata": {},
   "source": [
    "### BNT covariance"
   ]
  },
  {
   "cell_type": "code",
   "execution_count": null,
   "id": "657b2d48-beb1-49e2-ace4-370565bc3d91",
   "metadata": {},
   "outputs": [],
   "source": [
    "# transform (I need the 3x2pt dictionary for the BNT covariance)\n",
    "X_dict = build_X_matrix_BNT(BNT_matrix)\n",
    "cov_WL_BNTcov_6D = cov_BNT_transform(cov_WL_6D, X_dict, 'L', 'L', 'L', 'L')\n",
    "cov_3x2pt_BNTcov_10D_dict = cov_3x2pt_BNT_transform(cov_3x2pt_10D_dict, X_dict)\n",
    "\n",
    "# reshape to 4D\n",
    "cov_WL_BNTcov_4D = mm.cov_6D_to_4D(cov_WL_BNTcov_6D, nbl, zpairs_auto, ind[:zpairs_auto])\n",
    "cov_3x2pt_BNTcov_4D = mm.cov_3x2pt_dict_10D_to_4D(cov_3x2pt_BNTcov_10D_dict, probe_ordering, nbl, zbins, ind.copy(),\n",
    "                                                  GL_or_LG)\n",
    "# reshape to 2D\n",
    "cov_WL_BNTcov_2D = mm.cov_4D_to_2D(cov_WL_BNTcov_4D, block_index=block_index)\n",
    "cov_3x2pt_BNTcov_2D = mm.cov_4D_to_2D(cov_3x2pt_BNTcov_4D, block_index=block_index)\n",
    "cov_3x2pt_BNTcov_2DCLOE = mm.cov_4D_to_2DCLOE_3x2pt(cov_3x2pt_BNTcov_4D, nbl, zbins)"
   ]
  },
  {
   "cell_type": "markdown",
   "id": "9e6baa62-d218-412f-a542-fb5b4e4aadd5",
   "metadata": {},
   "source": [
    "### BNT covariance with BNT cls"
   ]
  },
  {
   "cell_type": "code",
   "execution_count": null,
   "id": "96ff030b-ceff-4748-ac13-83ef798649b3",
   "metadata": {},
   "outputs": [],
   "source": [
    "# transform cls AND NOISE\n",
    "cl_LL_BNT_3D = cl_BNT_transform(cl_LL_3D, BNT_matrix, 'L', 'L')\n",
    "noise_LL_BNT_3D = cl_BNT_transform(noise_LL_5D[0, 0, ...], BNT_matrix, 'L', 'L')\n",
    "cl_3x2pt_BNT_5D = cl_BNT_transform_3x2pt(cl_3x2pt_5D, BNT_matrix)\n",
    "noise_3x2pt_BNT_5D = cl_BNT_transform_3x2pt(noise_3x2pt_5D, BNT_matrix)\n",
    "\n",
    "# compute cov\n",
    "cl_LL_BNT_5D = cl_LL_BNT_3D[np.newaxis, np.newaxis, ...]\n",
    "noise_LL_BNT_5D = noise_LL_BNT_3D[np.newaxis, np.newaxis, ...]\n",
    "cov_WL_BNTcl_6D = mm.covariance_einsum(cl_LL_BNT_5D, noise_LL_BNT_5D, fsky, ell_values, delta_ell)[0, 0, 0, 0, ...]\n",
    "cov_3x2pt_BNTcl_10D_arr = mm.covariance_einsum(cl_3x2pt_BNT_5D, noise_3x2pt_BNT_5D, fsky, ell_values, delta_ell)\n",
    "\n",
    "# reshape to 4D\n",
    "cov_WL_BNTcl_4D = mm.cov_6D_to_4D(cov_WL_BNTcl_6D, nbl, zpairs_auto, ind[:zpairs_auto])\n",
    "cov_3x2pt_BNTcl_10D_dict = mm.cov_10D_array_to_dict(cov_3x2pt_BNTcl_10D_arr)  # not important, equivalent to the array above\n",
    "cov_3x2pt_BNTcl_4D = mm.cov_3x2pt_dict_10D_to_4D(cov_3x2pt_BNTcl_10D_dict, probe_ordering, nbl, zbins, ind.copy(), GL_or_LG)\n",
    "\n",
    "# reshape to 2D\n",
    "cov_WL_BNTcl_2D = mm.cov_4D_to_2D(cov_WL_BNTcl_4D, block_index=block_index)\n",
    "cov_3x2pt_BNTcl_2D = mm.cov_4D_to_2D(cov_3x2pt_BNTcl_4D, block_index=block_index)\n",
    "cov_3x2pt_BNTcl_2DCLOE = mm.cov_4D_to_2DCLOE_3x2pt(cov_3x2pt_BNTcl_4D, nbl, zbins)"
   ]
  },
  {
   "cell_type": "code",
   "execution_count": null,
   "id": "33939c92-2e46-4d2e-a509-38a8ecd88cc7",
   "metadata": {},
   "outputs": [],
   "source": [
    "mm.compare_arrays(cov_3x2pt_BNTcov_2D, cov_3x2pt_BNTcl_2D, 'cov_3x2pt_BNTcov_2D', 'cov_3x2pt_BNTcl_2D',\n",
    "                  plot_array=True, log_array=True,\n",
    "                  plot_diff=True, log_diff=False, plot_diff_threshold=5)"
   ]
  },
  {
   "cell_type": "code",
   "execution_count": null,
   "id": "edb2291a-358f-4aea-b5b3-2c99568db351",
   "metadata": {},
   "outputs": [],
   "source": [
    "np.savez_compressed('../output/cov_3x2pt_10D_arr.npz', cov_3x2pt_10D_arr)\n",
    "np.savez_compressed('../output/cov_3x2pt_4D.npz', cov_3x2pt_4D)\n",
    "np.savez_compressed('../output/cov_3x2pt_2D.npz', cov_3x2pt_2D)\n",
    "np.savez_compressed('../output/cov_3x2pt_4D.npz', cov_3x2pt_4D)\n",
    "np.savez_compressed('../output/cov_3x2pt_2D.npz', cov_3x2pt_2D)"
   ]
  },
  {
   "cell_type": "code",
   "execution_count": null,
   "id": "f0a64def-685e-4b5d-881e-21acb66c10fc",
   "metadata": {},
   "outputs": [],
   "source": []
  }
 ],
 "metadata": {
  "kernelspec": {
   "display_name": "Python 3 (ipykernel)",
   "language": "python",
   "name": "python3"
  },
  "language_info": {
   "codemirror_mode": {
    "name": "ipython",
    "version": 3
   },
   "file_extension": ".py",
   "mimetype": "text/x-python",
   "name": "python",
   "nbconvert_exporter": "python",
   "pygments_lexer": "ipython3",
   "version": "3.9.13"
  }
 },
 "nbformat": 4,
 "nbformat_minor": 5
}
