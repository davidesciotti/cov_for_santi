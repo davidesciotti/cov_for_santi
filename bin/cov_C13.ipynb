{
 "cells": [
  {
   "cell_type": "code",
   "execution_count": 1,
   "id": "9acc5eef-bd2a-439e-81da-9620a030cb21",
   "metadata": {
    "ExecuteTime": {
     "start_time": "2023-06-14T13:45:23.963121Z",
     "end_time": "2023-06-14T13:45:23.976603Z"
    }
   },
   "outputs": [],
   "source": [
    "import sys\n",
    "import time\n",
    "from pathlib import Path\n",
    "import matplotlib\n",
    "import matplotlib.pyplot as plt\n",
    "import numpy as np\n",
    "import json\n",
    "\n",
    "sys.path.append('../lib')\n",
    "import utils"
   ]
  },
  {
   "cell_type": "code",
   "execution_count": 2,
   "id": "764d118e-6192-4bab-8bb9-11943fe0c81b",
   "metadata": {
    "ExecuteTime": {
     "start_time": "2023-06-14T13:45:23.974373Z",
     "end_time": "2023-06-14T13:45:24.044012Z"
    }
   },
   "outputs": [],
   "source": [
    "%load_ext autoreload\n",
    "%autoreload 2\n",
    "%matplotlib inline"
   ]
  },
  {
   "cell_type": "code",
   "execution_count": 3,
   "id": "d728f34a-1c4f-4ae5-abfc-969d956862fb",
   "metadata": {
    "ExecuteTime": {
     "start_time": "2023-06-14T13:45:24.025925Z",
     "end_time": "2023-06-14T13:45:24.084918Z"
    }
   },
   "outputs": [],
   "source": [
    "def build_X_matrix_BNT(BNT_matrix):\n",
    "    \"\"\"\n",
    "    Builds the X matrix for the BNT transform, according to eq.\n",
    "    :param BNT_matrix:\n",
    "    :return:\n",
    "    \"\"\"\n",
    "    X = {}\n",
    "    delta_kron = np.eye(BNT_matrix.shape[0])\n",
    "    X['L', 'L'] = np.einsum('ae, bf -> aebf', BNT_matrix, BNT_matrix)\n",
    "    X['G', 'G'] = np.einsum('ae, bf -> aebf', delta_kron, delta_kron)\n",
    "    X['G', 'L'] = np.einsum('ae, bf -> aebf', delta_kron, BNT_matrix)\n",
    "    X['L', 'G'] = np.einsum('ae, bf -> aebf', BNT_matrix, delta_kron)\n",
    "    return X\n",
    "\n",
    "\n",
    "def cov_BNT_transform(cov_noBNT_6D, X_dict, probe_A, probe_B, probe_C, probe_D, optimize=True):\n",
    "    \"\"\"same as above, but only for one probe (i.e., LL or GL: GG is not modified by the BNT)\"\"\"\n",
    "    # todo it's nicer if you sandwitch the covariance, maybe? That is, X cov X instead of X X cov\n",
    "    cov_BNT_6D = np.einsum('aebf, cgdh, LMefgh -> LMabcd', X_dict[probe_A, probe_B], X_dict[probe_C, probe_D],\n",
    "                           cov_noBNT_6D, optimize=optimize)\n",
    "    return cov_BNT_6D\n",
    "\n",
    "\n",
    "def cov_3x2pt_BNT_transform(cov_3x2pt_10D_dict, X_dict, optimize=True):\n",
    "    \"\"\"in np.einsum below, L and M are the ell1, ell2 indices, which are not touched by the BNT transform\"\"\"\n",
    "\n",
    "    cov_3x2pt_BNT_dict_10D = {}\n",
    "\n",
    "    for probe_A, probe_B, probe_C, probe_D in cov_3x2pt_10D_dict.keys():\n",
    "        cov_3x2pt_BNT_dict_10D[probe_A, probe_B, probe_C, probe_D] = \\\n",
    "            cov_BNT_transform(cov_3x2pt_10D_dict[probe_A, probe_B, probe_C, probe_D], X_dict,\n",
    "                              probe_A, probe_B, probe_C, probe_D, optimize=optimize)\n",
    "\n",
    "    return cov_3x2pt_BNT_dict_10D\n",
    "\n",
    "\n",
    "def cl_BNT_transform(cl_3D, BNT_matrix, probe_A, probe_B):\n",
    "    assert cl_3D.ndim == 3, 'cl_3D must be 3D'\n",
    "    assert BNT_matrix.ndim == 2, 'BNT_matrix must be 2D'\n",
    "    assert cl_3D.shape[1] == BNT_matrix.shape[0], 'the number of ell bins in cl_3D and BNT_matrix must be the same'\n",
    "\n",
    "    BNT_transform_dict = {\n",
    "        'L': BNT_matrix,\n",
    "        'G': np.eye(BNT_matrix.shape[0]),\n",
    "    }\n",
    "\n",
    "    cl_3D_BNT = np.zeros(cl_3D.shape)\n",
    "    for ell_idx in range(cl_3D.shape[0]):\n",
    "        cl_3D_BNT[ell_idx, :, :] = BNT_transform_dict[probe_A] @ \\\n",
    "                                   cl_3D[ell_idx, :, :] @ \\\n",
    "                                   BNT_transform_dict[probe_B].T\n",
    "\n",
    "    return cl_3D_BNT\n",
    "\n",
    "\n",
    "def cl_BNT_transform_3x2pt(cl_3x2pt_5D, BNT_matrix):\n",
    "    \"\"\"wrapper function to quickly implement the cl (or derivatives) BNT transform for the 3x2pt datavector\"\"\"\n",
    "\n",
    "    cl_3x2pt_5D_BNT = np.zeros(cl_3x2pt_5D.shape)\n",
    "    cl_3x2pt_5D_BNT[0, 0, :, :, :] = cl_BNT_transform(cl_3x2pt_5D[0, 0, :, :, :], BNT_matrix, 'L', 'L')\n",
    "    cl_3x2pt_5D_BNT[0, 1, :, :, :] = cl_BNT_transform(cl_3x2pt_5D[0, 1, :, :, :], BNT_matrix, 'L', 'G')\n",
    "    cl_3x2pt_5D_BNT[1, 0, :, :, :] = cl_BNT_transform(cl_3x2pt_5D[1, 0, :, :, :], BNT_matrix, 'G', 'L')\n",
    "    cl_3x2pt_5D_BNT[1, 1, :, :, :] = cl_3x2pt_5D[1, 1, :, :, :]  # no need to transform the GG part\n",
    "\n",
    "    return cl_3x2pt_5D_BNT\n",
    "\n",
    "\n",
    "def cl_1d_to_3x2pt_5d(cl_LL_1d, cl_GL_1d, cl_GG_1d, nbl, zbins):\n",
    "    \n",
    "    zpairs_auto, zpairs_cross, _ = utils.get_zpairs(zbins)\n",
    "    \n",
    "    # reshape to 2D\n",
    "    cl_LL_2d = cl_LL_1d.reshape((nbl, zpairs_auto))\n",
    "    cl_GL_2d = cl_GL_1d.reshape((nbl, zpairs_cross))\n",
    "    cl_GG_2d = cl_GG_1d.reshape((nbl, zpairs_auto))\n",
    "\n",
    "    # reshape to 3d\n",
    "    cl_LL_3d = utils.cl_2D_to_3D_symmetric(cl_LL_2d, nbl, zpairs_auto, zbins)\n",
    "    cl_GL_3d = utils.cl_2D_to_3D_asymmetric(cl_GL_2d, nbl, zbins, 'C')\n",
    "    cl_GG_3d = utils.cl_2D_to_3D_symmetric(cl_GG_2d, nbl, zpairs_auto, zbins)\n",
    "\n",
    "    # construct 3x2pt 5d vector\n",
    "    cl_3x2pt_5d = np.zeros((2, 2, nbl, zbins, zbins))\n",
    "    cl_3x2pt_5d[0, 0, ...] = cl_LL_3d\n",
    "    cl_3x2pt_5d[1, 0, ...] = cl_GL_3d\n",
    "    cl_3x2pt_5d[0, 1, ...] = cl_GL_3d.transpose(0, 2, 1)\n",
    "    cl_3x2pt_5d[1, 1, ...] = cl_GG_3d\n",
    "    \n",
    "    return cl_3x2pt_5d\n",
    "\n",
    "\n",
    "def compute_ells(nbl: int, ell_min: int, ell_max: int, recipe, output_ell_bin_edges: bool = False):\n",
    "    \"\"\"Compute the ell values and the bin widths for a given recipe.\n",
    "\n",
    "    Parameters\n",
    "    ----------\n",
    "    nbl : int\n",
    "        Number of ell bins.\n",
    "    ell_min : int\n",
    "        Minimum ell value.\n",
    "    ell_max : int\n",
    "        Maximum ell value.\n",
    "    recipe : str\n",
    "        Recipe to use. Must be either \"ISTF\" or \"ISTNL\".\n",
    "    output_ell_bin_edges : bool, optional\n",
    "        If True, also return the ell bin edges, by default False\n",
    "\n",
    "    Returns\n",
    "    -------\n",
    "    ells : np.ndarray\n",
    "        Central ell values.\n",
    "    deltas : np.ndarray\n",
    "        Bin widths\n",
    "    ell_bin_edges : np.ndarray, optional\n",
    "        ell bin edges. Returned only if output_ell_bin_edges is True.\n",
    "    \"\"\"\n",
    "    if recipe == 'ISTF':\n",
    "        ell_bin_edges = np.logspace(np.log10(ell_min), np.log10(ell_max), nbl + 1)\n",
    "        ells = (ell_bin_edges[1:] + ell_bin_edges[:-1]) / 2\n",
    "        deltas = np.diff(ell_bin_edges)\n",
    "    elif recipe == 'ISTNL':\n",
    "        ell_bin_edges = np.linspace(np.log(ell_min), np.log(ell_max), nbl + 1)\n",
    "        ells = (ell_bin_edges[:-1] + ell_bin_edges[1:]) / 2.\n",
    "        ells = np.exp(ells)\n",
    "        deltas = np.diff(np.exp(ell_bin_edges))\n",
    "    else:\n",
    "        raise ValueError('recipe must be either \"ISTF\" or \"ISTNL\"')\n",
    "\n",
    "    if output_ell_bin_edges:\n",
    "        return ells, deltas, ell_bin_edges\n",
    "\n",
    "    return ells, deltas"
   ]
  },
  {
   "cell_type": "code",
   "execution_count": 4,
   "id": "02b72737-7944-4284-9d1b-3a9e94fc315d",
   "metadata": {
    "ExecuteTime": {
     "start_time": "2023-06-14T13:45:24.072012Z",
     "end_time": "2023-06-14T13:45:24.103192Z"
    }
   },
   "outputs": [],
   "source": [
    "# ! settings\n",
    "survey_area = 14_700  # deg^2\n",
    "deg2_in_sphere = 41252.96  # deg^2 in a spere\n",
    "fsky = survey_area / deg2_in_sphere\n",
    "\n",
    "zbins = 13\n",
    "\n",
    "ell_min = 10\n",
    "ell_max = 5000\n",
    "nbl = 32\n",
    "\n",
    "n_gal = np.genfromtxt('/Users/davide/Documents/Lavoro/Programmi/CLOE_validation/data/nuisance/nuiTabSPV3.dat')[:, 1]\n",
    "sigma_eps = 0.26 * np.sqrt(2)\n",
    "\n",
    "EP_or_ED = 'EP'\n",
    "GL_or_LG = 'GL'\n",
    "triu_tril = 'triu'\n",
    "row_col_major = 'row-major'\n",
    "probe_ordering = [['L', 'L'], [GL_or_LG[0], GL_or_LG[1]], ['G', 'G']]\n",
    "block_index = 'ell'\n",
    "n_probes = 2\n",
    "input_folder = 'cl_LiFE'"
   ]
  },
  {
   "cell_type": "code",
   "execution_count": 5,
   "id": "294a59e3",
   "metadata": {
    "ExecuteTime": {
     "start_time": "2023-06-14T13:45:24.104627Z",
     "end_time": "2023-06-14T13:45:24.139344Z"
    }
   },
   "outputs": [],
   "source": [
    "cmap = plt.get_cmap('viridis')\n",
    "colors = [cmap(i) for i in np.linspace(0, 1, zbins)]"
   ]
  },
  {
   "cell_type": "code",
   "execution_count": 6,
   "id": "6cb2c5e0-ce0e-4d38-9259-6107ca950091",
   "metadata": {
    "ExecuteTime": {
     "start_time": "2023-06-14T13:45:24.135640Z",
     "end_time": "2023-06-14T13:45:24.186798Z"
    }
   },
   "outputs": [],
   "source": [
    "ind = utils.build_full_ind(triu_tril, row_col_major, zbins)\n",
    "zpairs_auto, zpairs_cross, zpairs_3x2pt = utils.get_zpairs(zbins)"
   ]
  },
  {
   "cell_type": "code",
   "execution_count": 7,
   "id": "459798ab",
   "metadata": {
    "ExecuteTime": {
     "start_time": "2023-06-14T13:45:24.164553Z",
     "end_time": "2023-06-14T13:45:24.195740Z"
    }
   },
   "outputs": [],
   "source": [
    "ind_auto = ind[:zpairs_auto, :]\n",
    "ind_cross = ind[zpairs_auto:zpairs_auto + zpairs_cross, :]"
   ]
  },
  {
   "cell_type": "code",
   "execution_count": 8,
   "id": "3eb1b836",
   "metadata": {
    "ExecuteTime": {
     "start_time": "2023-06-14T13:45:24.196236Z",
     "end_time": "2023-06-14T13:45:24.238249Z"
    }
   },
   "outputs": [
    {
     "name": "stdout",
     "output_type": "stream",
     "text": [
      "[  11.07173512   13.44492858   16.32680901   19.82641192   24.0761443\n",
      "   29.23679417   35.50361397   43.11370795   52.35500292   63.57714196\n",
      "   77.2047131    93.75331355  113.84905725  138.2522638   167.88622503\n",
      "  203.87213764  247.57152351  300.63774267  365.07854795  443.33204803\n",
      "  538.35895294  653.75459205  793.88494293  964.05181742 1170.69345495\n",
      " 1421.6281124  1726.34986676 2096.38782216 2545.74231185 3091.4145989\n",
      " 3754.05011646 4558.71958485] [  2.14347023   2.6029167    3.16084415   3.83836168   4.66110308\n",
      "   5.66019665   6.87344296   8.346745    10.13584494  12.30843314\n",
      "  14.94670914  18.15049176  22.04099564  26.76541745  32.50250501\n",
      "  39.46932022  47.92945152  58.20298679  70.67862377  85.8283764\n",
      " 104.22543341 126.56584483 153.69485694 186.63889204 226.64438301\n",
      " 275.22493189 334.21857683 405.85733396 492.85164544 598.49292865\n",
      " 726.77810647 882.56083031]\n"
     ]
    }
   ],
   "source": [
    "ell_values, delta_values = compute_ells(nbl, ell_min, ell_max, recipe='ISTF', output_ell_bin_edges = False)\n",
    "print(ell_values, delta_values)"
   ]
  },
  {
   "cell_type": "code",
   "execution_count": 9,
   "id": "4252df47",
   "metadata": {
    "ExecuteTime": {
     "start_time": "2023-06-14T13:45:24.229064Z",
     "end_time": "2023-06-14T13:45:24.327486Z"
    }
   },
   "outputs": [],
   "source": [
    "# import and split the 1d vector\n",
    "cl_3x2pt_1d = np.genfromtxt(f'../input/cl_LiFE/dv-3x2pt-LiFE-C13.dat')\n",
    "elements_auto = nbl*zpairs_auto\n",
    "elements_cross = nbl*zpairs_cross\n",
    "\n",
    "# reshape\n",
    "cl_3x2pt_2d = cl_3x2pt_1d.reshape((nbl, zpairs_3x2pt))\n",
    "\n",
    "# split into 3 2d datavectors\n",
    "cl_ll_3x2pt_2d = cl_3x2pt_2d[:, :zpairs_auto]\n",
    "cl_gl_3x2pt_2d = cl_3x2pt_2d[:, zpairs_auto:zpairs_auto + zpairs_cross]\n",
    "cl_gg_3x2pt_2d = cl_3x2pt_2d[:, zpairs_auto + zpairs_cross:]\n",
    "\n",
    "cl_ll_3x2pt_3d = utils.cl_2D_to_3D_symmetric(cl_ll_3x2pt_2d, nbl=nbl, zpairs=zpairs_auto, zbins=zbins)\n",
    "cl_gl_3x2pt_3d = utils.cl_2D_to_3D_asymmetric(cl_gl_3x2pt_2d, nbl=nbl, zbins=zbins, order='C')\n",
    "cl_gg_3x2pt_3d = utils.cl_2D_to_3D_symmetric(cl_gg_3x2pt_2d, nbl=nbl, zpairs=zpairs_auto, zbins=zbins)\n",
    "\n",
    "cl_3x2pt_5D = np.zeros((n_probes, n_probes, nbl, zbins, zbins))\n",
    "cl_3x2pt_5D[0, 0, :, :, :] = cl_ll_3x2pt_3d\n",
    "cl_3x2pt_5D[1, 1, :, :, :] = cl_gg_3x2pt_3d\n",
    "cl_3x2pt_5D[1, 0, :, :, :] = cl_gl_3x2pt_3d\n",
    "cl_3x2pt_5D[0, 1, :, :, :] = np.transpose(cl_gl_3x2pt_3d, (0, 2, 1))\n"
   ]
  },
  {
   "cell_type": "code",
   "execution_count": 10,
   "id": "84967bdc-ac3a-4096-9cd6-78618999fc5c",
   "metadata": {
    "ExecuteTime": {
     "start_time": "2023-06-14T13:45:24.316148Z",
     "end_time": "2023-06-14T13:45:24.355406Z"
    }
   },
   "outputs": [],
   "source": [
    "# cl_LL_3D_old = np.load(f'../input/march_2023/Cl_LL.npy')\n",
    "# cl_GL_3D_old = np.load(f'../input/march_2023/Cl_GL.npy')\n",
    "# cl_GG_3D_old = np.load(f'../input/march_2023/Cl_GG.npy')\n",
    "\n",
    "# ell_values_old = np.load(f'../input/ell_values.npy')\n",
    "# delta_ell_old = np.load(f'../input/delta_ells.npy')"
   ]
  },
  {
   "cell_type": "markdown",
   "id": "2747d3ef",
   "metadata": {},
   "source": [
    "## Compute covariance "
   ]
  },
  {
   "cell_type": "code",
   "execution_count": 11,
   "id": "e266bd15-d804-45d4-ace6-28d97ce144fb",
   "metadata": {
    "ExecuteTime": {
     "start_time": "2023-06-14T13:45:24.350134Z",
     "end_time": "2023-06-14T13:45:24.385099Z"
    }
   },
   "outputs": [],
   "source": [
    "# create a noise with dummy axis for ell, to have the same shape as cl_3x2pt_5D\n",
    "noise_3x2pt_4D = utils.build_noise(zbins, n_probes, sigma_eps2=sigma_eps ** 2, ng=n_gal, EP_or_ED=EP_or_ED)\n",
    "noise_3x2pt_5D = np.zeros((n_probes, n_probes, nbl, zbins, zbins))\n",
    "for probe_A in (0, 1):\n",
    "    for probe_B in (0, 1):\n",
    "        for ell_idx in range(nbl):\n",
    "            noise_3x2pt_5D[probe_A, probe_B, ell_idx, :, :] = noise_3x2pt_4D[probe_A, probe_B, ...]\n",
    "\n",
    "# 5d versions of auto.probe data and spectra\n",
    "# cl_LL_5D = cl_LL_3D[np.newaxis, np.newaxis, ...]\n",
    "# noise_LL_5D = noise_3x2pt_5D[0, 0, ...][np.newaxis, np.newaxis, ...]"
   ]
  },
  {
   "cell_type": "markdown",
   "id": "bdfcb83d-981e-40a8-a1d6-e064d043411e",
   "metadata": {},
   "source": [
    "### Regular (no BNT) covariance"
   ]
  },
  {
   "cell_type": "code",
   "execution_count": 12,
   "id": "7d5584a9-4ff9-4d87-82bd-87deb5cd44d3",
   "metadata": {
    "ExecuteTime": {
     "start_time": "2023-06-14T13:45:24.387910Z",
     "end_time": "2023-06-14T13:45:32.714421Z"
    }
   },
   "outputs": [
    {
     "name": "stdout",
     "output_type": "stream",
     "text": [
      "the probe ordering (LL, LG/GL, GG) is hardcoded, this function won't work with other combinations (but it will work both for LG and GL) \n"
     ]
    }
   ],
   "source": [
    "# compute\n",
    "# cov_WL_6D = utils.covariance_einsum(cl_LL_5D, noise_LL_5D, fsky, ell_values, delta_ell)[0, 0, 0, 0, ...]\n",
    "cov_3x2pt_10D_arr = utils.covariance_einsum(cl_3x2pt_5D, noise_3x2pt_5D, fsky, ell_values, delta_values)\n",
    "\n",
    "# reshape to 4D\n",
    "# cov_WL_4D = utils.cov_6D_to_4D(cov_WL_6D, nbl, zpairs_auto, ind[:zpairs_auto])\n",
    "cov_3x2pt_10D_dict = utils.cov_10D_array_to_dict(cov_3x2pt_10D_arr)  # not important, equivalent to the array above\n",
    "cov_3x2pt_4D = utils.cov_3x2pt_dict_10D_to_4D(cov_3x2pt_10D_dict, probe_ordering, nbl, zbins, ind.copy(), GL_or_LG)\n",
    "\n",
    "# reshape to 2D\n",
    "# cov_WL_2D = utils.cov_4D_to_2D(cov_WL_4D, block_index=block_index)\n",
    "cov_3x2pt_2D = utils.cov_4D_to_2D(cov_3x2pt_4D, block_index=block_index)\n",
    "cov_3x2pt_2DCLOE = utils.cov_4D_to_2DCLOE_3x2pt(cov_3x2pt_4D, nbl, zbins, block_index)"
   ]
  },
  {
   "cell_type": "code",
   "execution_count": 17,
   "id": "45f36925",
   "metadata": {
    "ExecuteTime": {
     "start_time": "2023-06-14T13:46:33.519843Z",
     "end_time": "2023-06-14T13:46:49.782837Z"
    }
   },
   "outputs": [
    {
     "name": "stderr",
     "output_type": "stream",
     "text": [
      "/var/folders/l4/w0t4jccj3ys27bbg1y8nwdk00000gn/T/ipykernel_36438/540200563.py:1: RuntimeWarning: divide by zero encountered in log10\n",
      "  plt.matshow(np.log10(cov_3x2pt_2D))\n",
      "/var/folders/l4/w0t4jccj3ys27bbg1y8nwdk00000gn/T/ipykernel_36438/540200563.py:1: RuntimeWarning: invalid value encountered in log10\n",
      "  plt.matshow(np.log10(cov_3x2pt_2D))\n",
      "/var/folders/l4/w0t4jccj3ys27bbg1y8nwdk00000gn/T/ipykernel_36438/540200563.py:2: RuntimeWarning: divide by zero encountered in log10\n",
      "  plt.matshow(np.log10(cov_3x2pt_2DCLOE))\n",
      "/var/folders/l4/w0t4jccj3ys27bbg1y8nwdk00000gn/T/ipykernel_36438/540200563.py:2: RuntimeWarning: invalid value encountered in log10\n",
      "  plt.matshow(np.log10(cov_3x2pt_2DCLOE))\n"
     ]
    },
    {
     "data": {
      "text/plain": "<matplotlib.image.AxesImage at 0x16ce00dc0>"
     },
     "execution_count": 17,
     "metadata": {},
     "output_type": "execute_result"
    },
    {
     "data": {
      "text/plain": "<Figure size 480x480 with 1 Axes>",
      "image/png": "[encoded data removed]"
     },
     "metadata": {},
     "output_type": "display_data"
    },
    {
     "data": {
      "text/plain": "<Figure size 480x480 with 1 Axes>",
      "image/png": "[encoded data removed]"
     },
     "metadata": {},
     "output_type": "display_data"
    }
   ],
   "source": [
    "plt.matshow(np.log10(cov_3x2pt_2D))\n",
    "plt.matshow(np.log10(cov_3x2pt_2DCLOE))"
   ]
  },
  {
   "cell_type": "code",
   "execution_count": 14,
   "id": "c15cb3a5",
   "metadata": {
    "ExecuteTime": {
     "start_time": "2023-06-14T13:45:43.361078Z",
     "end_time": "2023-06-14T13:45:43.412820Z"
    }
   },
   "outputs": [],
   "source": [
    "other_quantities_tosave = {\n",
    "    'n_gal': list(n_gal),\n",
    "    'survey_area': survey_area,\n",
    "    'sigma_eps': sigma_eps,\n",
    "}"
   ]
  },
  {
   "cell_type": "code",
   "execution_count": 15,
   "id": "bd48b698",
   "metadata": {
    "ExecuteTime": {
     "start_time": "2023-06-14T13:45:43.414608Z",
     "end_time": "2023-06-14T13:45:46.615606Z"
    }
   },
   "outputs": [],
   "source": [
    "np.save(f'../output/cl_LiFE/CovMat-3x2pt-Gauss-{nbl}Bins_2DCLOE.npy', cov_3x2pt_2DCLOE)\n",
    "np.save(f'../output/cl_LiFE/CovMat-3x2pt-Gauss-{nbl}Bins.npy', cov_3x2pt_2D)\n",
    "np.savetxt(f'../output/cl_LiFE/ell_values.txt', ell_values)\n",
    "np.savetxt(f'../output/cl_LiFE/delta_values.txt', delta_values)\n",
    "with open('../output/cl_LiFE/other_specs.txt', 'w') as file:\n",
    "     file.write(json.dumps(other_quantities_tosave))"
   ]
  },
  {
   "cell_type": "code",
   "execution_count": 16,
   "id": "c7c28225",
   "metadata": {},
   "outputs": [
    {
     "ename": "AssertionError",
     "evalue": "stop here",
     "output_type": "error",
     "traceback": [
      "\u001B[0;31m---------------------------------------------------------------------------\u001B[0m",
      "\u001B[0;31mAssertionError\u001B[0m                            Traceback (most recent call last)",
      "\u001B[0;32m/var/folders/l4/w0t4jccj3ys27bbg1y8nwdk00000gn/T/ipykernel_36438/2685711190.py\u001B[0m in \u001B[0;36m<cell line: 1>\u001B[0;34m()\u001B[0m\n\u001B[0;32m----> 1\u001B[0;31m \u001B[0;32massert\u001B[0m \u001B[0;32mFalse\u001B[0m\u001B[0;34m,\u001B[0m \u001B[0;34m'stop here'\u001B[0m\u001B[0;34m\u001B[0m\u001B[0;34m\u001B[0m\u001B[0m\n\u001B[0m",
      "\u001B[0;31mAssertionError\u001B[0m: stop here"
     ]
    }
   ],
   "source": [
    "assert False, 'stop here'"
   ]
  },
  {
   "cell_type": "markdown",
   "id": "43c9be40-eeee-46b0-97b1-e50286d9b36f",
   "metadata": {},
   "source": [
    "### BNT covariance"
   ]
  },
  {
   "cell_type": "code",
   "execution_count": null,
   "id": "b9e9f2ec-03c6-46de-b1b5-42029b1b6b0e",
   "metadata": {},
   "outputs": [],
   "source": [
    "# transform (I need the 3x2pt dictionary for the BNT covariance)\n",
    "X_dict = build_X_matrix_BNT(BNT_matrix)\n",
    "cov_WL_BNTcov_6D = cov_BNT_transform(cov_WL_6D, X_dict, 'L', 'L', 'L', 'L')\n",
    "cov_3x2pt_BNTcov_10D_dict = cov_3x2pt_BNT_transform(cov_3x2pt_10D_dict, X_dict)\n",
    "\n",
    "# reshape to 4D\n",
    "cov_WL_BNTcov_4D = utils.cov_6D_to_4D(cov_WL_BNTcov_6D, nbl, zpairs_auto, ind[:zpairs_auto])\n",
    "cov_3x2pt_BNTcov_4D = utils.cov_3x2pt_dict_10D_to_4D(cov_3x2pt_BNTcov_10D_dict, probe_ordering, nbl, zbins, ind.copy(),\n",
    "                                                  GL_or_LG)\n",
    "# reshape to 2D\n",
    "cov_WL_BNTcov_2D = utils.cov_4D_to_2D(cov_WL_BNTcov_4D, block_index=block_index)\n",
    "cov_3x2pt_BNTcov_2D = utils.cov_4D_to_2D(cov_3x2pt_BNTcov_4D, block_index=block_index)\n",
    "cov_3x2pt_BNTcov_2DCLOE = utils.cov_4D_to_2DCLOE_3x2pt(cov_3x2pt_BNTcov_4D, nbl, zbins)"
   ]
  },
  {
   "cell_type": "markdown",
   "id": "97120965",
   "metadata": {},
   "source": [
    "#### Covariance matrix with and without BNT (just for visual comparison)"
   ]
  },
  {
   "cell_type": "code",
   "execution_count": null,
   "id": "7df2be47-5622-44d6-988b-a280a347e737",
   "metadata": {},
   "outputs": [],
   "source": [
    "utils.compare_arrays(cov_3x2pt_2DCLOE, cov_3x2pt_BNTcov_2DCLOE, 'cov_3x2pt_2DCLOE', 'cov_3x2pt_BNTcov_2DCLOE',\n",
    "                     plot_array=True, log_array=True)"
   ]
  },
  {
   "cell_type": "markdown",
   "id": "9e6baa62-d218-412f-a542-fb5b4e4aadd5",
   "metadata": {},
   "source": [
    "### BNT covariance with BNT cls"
   ]
  },
  {
   "cell_type": "code",
   "execution_count": null,
   "id": "d4f08fc5-faea-4fc4-b557-38eda573de64",
   "metadata": {},
   "outputs": [],
   "source": [
    "# transform cls AND NOISE\n",
    "cl_LL_BNT_3D = cl_BNT_transform(cl_LL_3D, BNT_matrix, 'L', 'L')\n",
    "noise_LL_BNT_3D = cl_BNT_transform(noise_LL_5D[0, 0, ...], BNT_matrix, 'L', 'L')\n",
    "cl_3x2pt_BNT_5D = cl_BNT_transform_3x2pt(cl_3x2pt_5D, BNT_matrix)\n",
    "noise_3x2pt_BNT_5D = cl_BNT_transform_3x2pt(noise_3x2pt_5D, BNT_matrix)\n",
    "\n",
    "# compute cov\n",
    "cl_LL_BNT_5D = cl_LL_BNT_3D[np.newaxis, np.newaxis, ...]\n",
    "noise_LL_BNT_5D = noise_LL_BNT_3D[np.newaxis, np.newaxis, ...]\n",
    "cov_WL_BNTcl_6D = utils.covariance_einsum(cl_LL_BNT_5D, noise_LL_BNT_5D, fsky, ell_values, delta_ell)[0, 0, 0, 0, ...]\n",
    "cov_3x2pt_BNTcl_10D_arr = utils.covariance_einsum(cl_3x2pt_BNT_5D, noise_3x2pt_BNT_5D, fsky, ell_values, delta_ell)"
   ]
  },
  {
   "cell_type": "code",
   "execution_count": null,
   "id": "f34eaf58-e530-45e3-be93-4f300f74920c",
   "metadata": {},
   "outputs": [],
   "source": [
    "# reshape to 4D\n",
    "cov_WL_BNTcl_4D = utils.cov_6D_to_4D(cov_WL_BNTcl_6D, nbl, zpairs_auto, ind[:zpairs_auto])\n",
    "cov_3x2pt_BNTcl_10D_dict = utils.cov_10D_array_to_dict(cov_3x2pt_BNTcl_10D_arr)  # not important, equivalent to the array above\n",
    "cov_3x2pt_BNTcl_4D = utils.cov_3x2pt_dict_10D_to_4D(cov_3x2pt_BNTcl_10D_dict, probe_ordering, nbl, zbins, ind.copy(), GL_or_LG)\n",
    "\n",
    "# reshape to 2D\n",
    "cov_WL_BNTcl_2D = utils.cov_4D_to_2D(cov_WL_BNTcl_4D, block_index=block_index)\n",
    "cov_3x2pt_BNTcl_2D = utils.cov_4D_to_2D(cov_3x2pt_BNTcl_4D, block_index=block_index)\n",
    "cov_3x2pt_BNTcl_2DCLOE = utils.cov_4D_to_2DCLOE_3x2pt(cov_3x2pt_BNTcl_4D, nbl, zbins)"
   ]
  },
  {
   "cell_type": "markdown",
   "id": "42e632d7-83d0-4ec3-8987-e3f7482f72ad",
   "metadata": {},
   "source": [
    "## BNT cov vs. cov with BNT cls"
   ]
  },
  {
   "cell_type": "code",
   "execution_count": null,
   "id": "33939c92-2e46-4d2e-a509-38a8ecd88cc7",
   "metadata": {},
   "outputs": [],
   "source": [
    "# utils.compare_arrays(cov_3x2pt_BNTcov_2DCLOE, cov_3x2pt_BNTcl_2DCLOE, 'cov_3x2pt_BNTcov_2DCLOE', 'cov_3x2pt_BNTcl_2DCLOE',\n",
    "#                   plot_array=True, log_array=True,\n",
    "#                   plot_diff=False, log_diff=False, plot_diff_threshold=5)ù\n",
    "rtol = 0.05\n",
    "assert np.allclose(cov_3x2pt_BNTcov_2DCLOE, cov_3x2pt_BNTcl_2DCLOE, rtol=rtol, atol=0)\n",
    "print(f'equal to within {rtol*100}% tolerance')"
   ]
  },
  {
   "cell_type": "code",
   "execution_count": null,
   "id": "edb2291a-358f-4aea-b5b3-2c99568db351",
   "metadata": {},
   "outputs": [],
   "source": [
    "np.savez_compressed('../output/cov_3x2pt_2D.npz', cov_3x2pt_2D)\n",
    "np.savez_compressed('../output/cov_3x2pt_BNTcov_2D.npz', cov_3x2pt_BNTcov_2D)\n",
    "\n",
    "# format used by CLOE \n",
    "np.savez_compressed('../output/cov_3x2pt_2DCLOE.npz', cov_3x2pt_2DCLOE)\n",
    "np.savez_compressed('../output/cov_3x2pt_BNTcov_2DCLOE.npz', cov_3x2pt_BNTcov_2DCLOE)"
   ]
  },
  {
   "cell_type": "markdown",
   "id": "20848518",
   "metadata": {},
   "source": [
    "# Test $\\chi^2$ with and without BNT"
   ]
  },
  {
   "cell_type": "code",
   "execution_count": null,
   "id": "d3aee69c",
   "metadata": {},
   "outputs": [],
   "source": [
    "BNT_transform_davide = True"
   ]
  },
  {
   "cell_type": "code",
   "execution_count": null,
   "id": "9be1bc99",
   "metadata": {},
   "outputs": [],
   "source": [
    "# import the data and theory vectors - here, \"data\" is from the benchmark datavector, which could be outdated\n",
    "# cl_LL_theory_3D = np.load('../input/test_chi2/from_photo_class/cloetheory_Cl_3d_LL_nsfid.npy')\n",
    "# cl_GL_theory_3D = np.load('../input/test_chi2/from_photo_class/cloetheory_Cl_3d_GL_nsfid.npy')\n",
    "# cl_GG_theory_3D = np.load('../input/test_chi2/from_photo_class/cloetheory_Cl_3d_GG_nsfid.npy')\n",
    "\n",
    "# cl_LL_data_3D = np.load('../input/test_chi2/from_photo_class/cloedata_Cl_3d_LL_nsfid.npy') \n",
    "# cl_GL_data_3D = np.load('../input/test_chi2/from_photo_class/cloedata_Cl_3d_GL_nsfid.npy')\n",
    "# cl_GG_data_3D = np.load('../input/test_chi2/from_photo_class/cloedata_Cl_3d_GG_nsfid.npy')"
   ]
  },
  {
   "cell_type": "code",
   "execution_count": null,
   "id": "cd6ae7c2",
   "metadata": {},
   "outputs": [],
   "source": [
    "# import the data and theory vectors - here, \"data\" is from the Photo class, with ns = 0.9 instead of 0.96\n",
    "cl_LL_theory_3D = np.load('../input/test_chi2/from_photo_class/cloetheory_Cl_3d_LL_nsfid.npy')\n",
    "cl_GL_theory_3D = np.load('../input/test_chi2/from_photo_class/cloetheory_Cl_3d_GL_nsfid.npy')\n",
    "cl_GG_theory_3D = np.load('../input/test_chi2/from_photo_class/cloetheory_Cl_3d_GG_nsfid.npy')\n",
    "\n",
    "cl_LL_data_3D = np.load('../input/test_chi2/from_photo_class/cloetheory_Cl_3d_LL_nsmod.npy') \n",
    "cl_GL_data_3D = np.load('../input/test_chi2/from_photo_class/cloetheory_Cl_3d_GL_nsmod.npy')\n",
    "cl_GG_data_3D = np.load('../input/test_chi2/from_photo_class/cloetheory_Cl_3d_GG_nsmod.npy')"
   ]
  },
  {
   "cell_type": "code",
   "execution_count": null,
   "id": "63934f9d",
   "metadata": {},
   "outputs": [],
   "source": [
    "# same thing, but BNT-transformed in the Photo class (should be the cleaner way)\n",
    "cl_LL_theory_BNT_3D = np.load('../input/test_chi2/from_photo_class/cloetheory_Cl_3d_LL_nsfid_BNT.npy')\n",
    "cl_GL_theory_BNT_3D = np.load('../input/test_chi2/from_photo_class/cloetheory_Cl_3d_GL_nsfid_BNT.npy')\n",
    "cl_GG_theory_BNT_3D = np.load('../input/test_chi2/from_photo_class/cloetheory_Cl_3d_GG_nsfid_BNT.npy')\n",
    "\n",
    "cl_LL_data_BNT_3D = np.load('../input/test_chi2/from_photo_class/cloetheory_Cl_3d_LL_nsmod_BNT.npy') \n",
    "cl_GL_data_BNT_3D = np.load('../input/test_chi2/from_photo_class/cloetheory_Cl_3d_GL_nsmod_BNT.npy')\n",
    "cl_GG_data_BNT_3D = np.load('../input/test_chi2/from_photo_class/cloetheory_Cl_3d_GG_nsmod_BNT.npy')"
   ]
  },
  {
   "cell_type": "code",
   "execution_count": null,
   "id": "324d8e35",
   "metadata": {},
   "outputs": [],
   "source": [
    "print('is theory == theory_BNT?', np.all(cl_LL_theory_3D == cl_LL_theory_BNT_3D))\n",
    "print('is data == data_BNT?', np.all(cl_LL_data_3D == cl_LL_data_BNT_3D))\n",
    "\n",
    "assert not np.all(cl_LL_theory_3D == cl_LL_theory_BNT_3D), 'cl_LL theory should not be equal to its BNT-transfor,'\n",
    "assert not np.all(cl_LL_data_3D == cl_LL_data_BNT_3D), 'cl_LL data should not be equal to its BNT-transfor,'"
   ]
  },
  {
   "cell_type": "markdown",
   "id": "3c8aeed1",
   "metadata": {},
   "source": [
    "### Check $C(\\ell)$"
   ]
  },
  {
   "cell_type": "code",
   "execution_count": null,
   "id": "f1ffdb79",
   "metadata": {},
   "outputs": [],
   "source": [
    "for zi in range(zbins):\n",
    "    plt.loglog(ell_values, cl_LL_data_BNT_3D[:, zi, zi])\n",
    "    plt.loglog(ell_values, cl_LL_data_3D[:, zi, zi],  ls='--')\n",
    "plt.legend(['cl_LL_data_BNT_3D', 'cl_LL_data_3D'])"
   ]
  },
  {
   "cell_type": "code",
   "execution_count": null,
   "id": "83193de7",
   "metadata": {},
   "outputs": [],
   "source": [
    "# create 3x2pt data vectors\n",
    "cl_3x2pt_theory_5D = np.zeros((n_probes, n_probes, nbl, zbins, zbins))\n",
    "cl_3x2pt_theory_5D[0, 0, :, :, :] = cl_LL_theory_3D\n",
    "cl_3x2pt_theory_5D[0, 1, :, :, :] = cl_GL_theory_3D.transpose(0, 2, 1)\n",
    "cl_3x2pt_theory_5D[1, 0, :, :, :] = cl_GL_theory_3D\n",
    "cl_3x2pt_theory_5D[1, 1, :, :, :] = cl_GG_theory_3D\n",
    "\n",
    "cl_3x2pt_data_5D = np.zeros((n_probes, n_probes, nbl, zbins, zbins))\n",
    "cl_3x2pt_data_5D[0, 0, :, :, :] = cl_LL_data_3D\n",
    "cl_3x2pt_data_5D[0, 1, :, :, :] = cl_GL_data_3D.transpose(0, 2, 1)\n",
    "cl_3x2pt_data_5D[1, 0, :, :, :] = cl_GL_data_3D\n",
    "cl_3x2pt_data_5D[1, 1, :, :, :] = cl_GG_data_3D"
   ]
  },
  {
   "cell_type": "code",
   "execution_count": null,
   "id": "2c578654",
   "metadata": {},
   "outputs": [],
   "source": [
    "# # BNT transform data and theory vectors\n",
    "# if BNT_transform_davide:\n",
    "#     cl_3x2pt_theory_BNT_5D = cl_BNT_transform_3x2pt(cl_3x2pt_theory_5D, BNT_matrix)\n",
    "#     cl_3x2pt_data_BNT_5D = cl_BNT_transform_3x2pt(cl_3x2pt_data_5D, BNT_matrix)    \n",
    "# else:\n",
    "#     # BNT-transformed by CLOE\n",
    "#     cl_3x2pt_theory_BNT_5D = np.zeros((n_probes, n_probes, nbl, zbins, zbins))\n",
    "#     cl_3x2pt_theory_BNT_5D[0, 0, :, :, :] = cl_LL_theory_BNT_3D\n",
    "#     cl_3x2pt_theory_BNT_5D[0, 1, :, :, :] = cl_GL_theory_BNT_3D.transpose(0, 2, 1)\n",
    "#     cl_3x2pt_theory_BNT_5D[1, 0, :, :, :] = cl_GL_theory_BNT_3D\n",
    "#     cl_3x2pt_theory_BNT_5D[1, 1, :, :, :] = cl_GG_theory_BNT_3D\n",
    "\n",
    "#     cl_3x2pt_data_BNT_5D = np.zeros((n_probes, n_probes, nbl, zbins, zbins))\n",
    "#     cl_3x2pt_data_BNT_5D[0, 0, :, :, :] = cl_LL_data_BNT_3D\n",
    "#     cl_3x2pt_data_BNT_5D[0, 1, :, :, :] = cl_GL_data_BNT_3D.transpose(0, 2, 1)\n",
    "#     cl_3x2pt_data_BNT_5D[1, 0, :, :, :] = cl_GL_data_BNT_3D\n",
    "#     cl_3x2pt_data_BNT_5D[1, 1, :, :, :] = cl_GG_data_BNT_3D"
   ]
  },
  {
   "cell_type": "code",
   "execution_count": null,
   "id": "04cd2280",
   "metadata": {},
   "outputs": [],
   "source": [
    "# BNT transform data and theory vectors\n",
    "\n",
    "# davide\n",
    "cl_3x2pt_theory_BNT_dav_5D = cl_BNT_transform_3x2pt(cl_3x2pt_theory_5D, BNT_matrix)\n",
    "cl_3x2pt_data_BNT_dav_5D = cl_BNT_transform_3x2pt(cl_3x2pt_data_5D, BNT_matrix)    \n",
    "\n",
    "# CLOE\n",
    "cl_3x2pt_theory_BNT_cloe_5D = np.zeros((n_probes, n_probes, nbl, zbins, zbins))\n",
    "cl_3x2pt_theory_BNT_cloe_5D[0, 0, :, :, :] = cl_LL_theory_BNT_3D\n",
    "cl_3x2pt_theory_BNT_cloe_5D[0, 1, :, :, :] = cl_GL_theory_BNT_3D.transpose(0, 2, 1)\n",
    "cl_3x2pt_theory_BNT_cloe_5D[1, 0, :, :, :] = cl_GL_theory_BNT_3D\n",
    "cl_3x2pt_theory_BNT_cloe_5D[1, 1, :, :, :] = cl_GG_theory_BNT_3D\n",
    "\n",
    "cl_3x2pt_data_BNT_cloe_5D = np.zeros((n_probes, n_probes, nbl, zbins, zbins))\n",
    "cl_3x2pt_data_BNT_cloe_5D[0, 0, :, :, :] = cl_LL_data_BNT_3D\n",
    "cl_3x2pt_data_BNT_cloe_5D[0, 1, :, :, :] = cl_GL_data_BNT_3D.transpose(0, 2, 1)\n",
    "cl_3x2pt_data_BNT_cloe_5D[1, 0, :, :, :] = cl_GL_data_BNT_3D\n",
    "cl_3x2pt_data_BNT_cloe_5D[1, 1, :, :, :] = cl_GG_data_BNT_3D"
   ]
  },
  {
   "cell_type": "code",
   "execution_count": null,
   "id": "c340c00f",
   "metadata": {},
   "outputs": [],
   "source": [
    "for zi in range(zbins):\n",
    "    plt.loglog(ell_values, cl_3x2pt_theory_BNT_dav_5D[0, 0, :, zi, zi], c=colors[zi], ls='-')\n",
    "    plt.loglog(ell_values, cl_3x2pt_theory_BNT_cloe_5D[0, 0, :, zi, zi], ls='--', c=colors[zi]) \n",
    "plt.legend(['cl_3x2pt_theory_BNT_dav_5D', 'cl_3x2pt_theory_BNT_cloe_5D'])\n",
    "plt.title('CLOE vs davide cl BNT transform')"
   ]
  },
  {
   "cell_type": "code",
   "execution_count": null,
   "id": "c2f21967",
   "metadata": {},
   "outputs": [],
   "source": [
    "# better comparison of the BNT cls\n",
    "probe_A = 0\n",
    "probe_B = 0\n",
    "ell_idx = 0\n",
    "diff = utils.percent_diff(cl_3x2pt_theory_BNT_dav_5D, cl_3x2pt_theory_BNT_cloe_5D)\n",
    "\n",
    "fig, ax = plt.subplots()\n",
    "plt.title('BNT cls transformed by Davide vs CLOE, % diff')\n",
    "im = ax.matshow(diff[probe_A, probe_B, ell_idx, :, :])\n",
    "plt.colorbar(im)\n",
    "    \n",
    "# Iterate over each cell in the plot and display its value\n",
    "for i in range(diff.shape[3]):\n",
    "    for j in range(diff.shape[4]):\n",
    "        ax.annotate(f'{int(diff[probe_A, probe_B, ell_idx, i, j])}', xy=(j, i),\n",
    "                    horizontalalignment='center',\n",
    "                    verticalalignment='center')\n",
    "plt.show()"
   ]
  },
  {
   "cell_type": "code",
   "execution_count": null,
   "id": "86722b7e",
   "metadata": {},
   "outputs": [],
   "source": [
    "if BNT_transform_davide:\n",
    "    cl_3x2pt_theory_BNT_5D = cl_3x2pt_theory_BNT_dav_5D\n",
    "    cl_3x2pt_data_BNT_5D = cl_3x2pt_data_BNT_dav_5D\n",
    "else:\n",
    "    cl_3x2pt_theory_BNT_5D = cl_3x2pt_theory_BNT_cloe_5D\n",
    "    cl_3x2pt_data_BNT_5D = cl_3x2pt_data_BNT_cloe_5D\n",
    "    "
   ]
  },
  {
   "cell_type": "code",
   "execution_count": null,
   "id": "0c45fcd1",
   "metadata": {},
   "outputs": [],
   "source": [
    "# compute data covariance (used to compute chi2) and theory covariance (in general I need the data covariance, but it it just the covariance \n",
    "# with the fiducial theory! that0s the covariance file we need in the repository)\n",
    "cov_3x2pt_10D_arr = utils.covariance_einsum(cl_3x2pt_data_5D, noise_3x2pt_5D, fsky, ell_values, delta_ell)\n",
    "\n",
    "# convenience variables, for better readability\n",
    "cl_LL_data_5D = cl_3x2pt_data_5D[0, 0, :, :, :][None, None, ...]\n",
    "noise_LL_5D = noise_3x2pt_5D[0, 0, :, :, :][None, None, ...]\n",
    "cov_WL_6D = utils.covariance_einsum(cl_LL_data_5D, noise_LL_5D, fsky, ell_values, delta_ell)[0, 0, 0, 0, ...]\n",
    "\n",
    "# BNT transform covariance\n",
    "X_dict = build_X_matrix_BNT(BNT_matrix)\n",
    "cov_3x2pt_10D_dict = utils.cov_10D_array_to_dict(cov_3x2pt_10D_arr)  # not important, equivalent to the array above\n",
    "cov_3x2pt_BNT_10D_dict = cov_3x2pt_BNT_transform(cov_3x2pt_10D_dict, X_dict)\n",
    "cov_WL_BNT_6D = cov_BNT_transform(cov_WL_6D, X_dict, 'L', 'L', 'L', 'L')\n",
    "\n",
    "# reshape to 4D\n",
    "cov_3x2pt_4D = utils.cov_3x2pt_dict_10D_to_4D(cov_3x2pt_10D_dict, probe_ordering, nbl, zbins, ind.copy(), GL_or_LG)\n",
    "cov_3x2pt_BNT_4D = utils.cov_3x2pt_dict_10D_to_4D(cov_3x2pt_BNT_10D_dict, probe_ordering, nbl, zbins, ind.copy(), GL_or_LG)\n",
    "cov_WL_4D = utils.cov_6D_to_4D(cov_WL_6D, nbl, zpairs_auto, ind_auto)\n",
    "cov_WL_BNT_4D = utils.cov_6D_to_4D(cov_WL_BNT_6D, nbl, zpairs_auto, ind_auto)\n",
    "\n",
    "# reshape to 2D\n",
    "cov_3x2pt_2DCLOE = utils.cov_4D_to_2DCLOE_3x2pt(cov_3x2pt_4D, nbl, zbins)\n",
    "cov_3x2pt_BNT_2DCLOE = utils.cov_4D_to_2DCLOE_3x2pt(cov_3x2pt_BNT_4D, nbl, zbins)\n",
    "cov_WL_2D = utils.cov_4D_to_2D(cov_WL_4D, block_index=block_index)\n",
    "cov_WL_BNT_2D = utils.cov_4D_to_2D(cov_WL_BNT_4D, block_index=block_index)"
   ]
  },
  {
   "cell_type": "code",
   "execution_count": null,
   "id": "4de381c8",
   "metadata": {},
   "outputs": [],
   "source": [
    "# utils.compare_arrays(cov_3x2pt_2DCLOE, cov_3x2pt_BNT_2DCLOE, \n",
    "#                      'cov_3x2pt_2DCLOE', 'cov_3x2pt_BNT_2DCLOE',\n",
    "#                     plot_array=True, log_array=True,\n",
    "#                   plot_diff=False, log_diff=False, plot_diff_threshold=5)"
   ]
  },
  {
   "cell_type": "code",
   "execution_count": null,
   "id": "c051e639",
   "metadata": {},
   "outputs": [],
   "source": [
    "# flatten the 3x2pt theory and data vectors (flatten first, then concatenate the probes in this covariance ordering)\n",
    "cl_LL_theory_1D = utils.cl_3D_to_1D(cl_3x2pt_theory_5D[0, 0, :, :, :], ind_auto, is_auto_spectrum=True, block_index='ell', use_triu_row_major=True)\n",
    "cl_GL_theory_1D = utils.cl_3D_to_1D(cl_3x2pt_theory_5D[1, 0, :, :, :], ind_cross, is_auto_spectrum=False, block_index='ell', use_triu_row_major=True)\n",
    "cl_GG_theory_1D = utils.cl_3D_to_1D(cl_3x2pt_theory_5D[1, 1, :, :, :], ind_auto, is_auto_spectrum=True, block_index='ell', use_triu_row_major=True)\n",
    "\n",
    "cl_LL_data_1D = utils.cl_3D_to_1D(cl_3x2pt_data_5D[0, 0, :, :, :], ind_auto, is_auto_spectrum=True, block_index='ell', use_triu_row_major=True)\n",
    "cl_GL_data_1D = utils.cl_3D_to_1D(cl_3x2pt_data_5D[1, 0, :, :, :], ind_cross, is_auto_spectrum=False, block_index='ell', use_triu_row_major=True)\n",
    "cl_GG_data_1D = utils.cl_3D_to_1D(cl_3x2pt_data_5D[1, 1, :, :, :], ind_auto, is_auto_spectrum=True, block_index='ell', use_triu_row_major=True)\n",
    "\n",
    "cl_LL_theory_BNT_1D = utils.cl_3D_to_1D(cl_3x2pt_theory_BNT_5D[0, 0, :, :, :], ind_auto, is_auto_spectrum=True, block_index='ell', use_triu_row_major=True)\n",
    "cl_GL_theory_BNT_1D = utils.cl_3D_to_1D(cl_3x2pt_theory_BNT_5D[1, 0, :, :, :], ind_cross, is_auto_spectrum=False, block_index='ell', use_triu_row_major=True)\n",
    "cl_GG_theory_BNT_1D = utils.cl_3D_to_1D(cl_3x2pt_theory_BNT_5D[1, 1, :, :, :], ind_auto, is_auto_spectrum=True, block_index='ell', use_triu_row_major=True)\n",
    "\n",
    "cl_LL_data_BNT_1D = utils.cl_3D_to_1D(cl_3x2pt_data_BNT_5D[0, 0, :, :, :], ind_auto, is_auto_spectrum=True, block_index='ell', use_triu_row_major=True)\n",
    "cl_GL_data_BNT_1D = utils.cl_3D_to_1D(cl_3x2pt_data_BNT_5D[1, 0, :, :, :], ind_cross, is_auto_spectrum=False, block_index='ell', use_triu_row_major=True)\n",
    "cl_GG_data_BNT_1D = utils.cl_3D_to_1D(cl_3x2pt_data_BNT_5D[1, 1, :, :, :], ind_auto, is_auto_spectrum=True, block_index='ell', use_triu_row_major=True)"
   ]
  },
  {
   "cell_type": "code",
   "execution_count": null,
   "id": "8fc085f8",
   "metadata": {},
   "outputs": [],
   "source": [
    "# # flatten the 3x2pt theory and data vectors (flatten first, then concatenate the probes in this covariance ordering)\n",
    "# # ! TODO debug the function cl_3D_to_2D_or_1D\n",
    "# cl_LL_theory_1D = utils.cl_3D_to_2D_or_1D(cl_3x2pt_theory_5D[0, 0, :, :, :], ind, is_auto_spectrum=True, use_triu_row_major=True, convert_to_2D=False, block_index='ell')\n",
    "# cl_GL_theory_1D = utils.cl_3D_to_2D_or_1D(cl_3x2pt_theory_5D[1, 0, :, :, :], ind, is_auto_spectrum=False, use_triu_row_major=True, convert_to_2D=False, block_index='ell')\n",
    "# cl_GG_theory_1D = utils.cl_3D_to_2D_or_1D(cl_3x2pt_theory_5D[1, 1, :, :, :], ind, is_auto_spectrum=True, use_triu_row_major=True, convert_to_2D=False, block_index='ell')\n",
    "\n",
    "# cl_LL_data_1D = utils.cl_3D_to_2D_or_1D(cl_3x2pt_data_5D[0, 0, :, :, :], ind, is_auto_spectrum=True, use_triu_row_major=True, convert_to_2D=False, block_index='ell')\n",
    "# cl_GL_data_1D = utils.cl_3D_to_2D_or_1D(cl_3x2pt_data_5D[1, 0, :, :, :], ind, is_auto_spectrum=False, use_triu_row_major=True, convert_to_2D=False, block_index='ell')\n",
    "# cl_GG_data_1D = utils.cl_3D_to_2D_or_1D(cl_3x2pt_data_5D[1, 1, :, :, :], ind, is_auto_spectrum=True, use_triu_row_major=True, convert_to_2D=False, block_index='ell')\n",
    "\n",
    "# cl_LL_theory_BNT_1D = utils.cl_3D_to_2D_or_1D(cl_3x2pt_theory_BNT_5D[0, 0, :, :, :], ind, is_auto_spectrum=True, use_triu_row_major=True, convert_to_2D=False, block_index='ell')\n",
    "# cl_GL_theory_BNT_1D = utils.cl_3D_to_2D_or_1D(cl_3x2pt_theory_BNT_5D[1, 0, :, :, :], ind, is_auto_spectrum=False, use_triu_row_major=True, convert_to_2D=False, block_index='ell')\n",
    "# cl_GG_theory_BNT_1D = utils.cl_3D_to_2D_or_1D(cl_3x2pt_theory_BNT_5D[1, 1, :, :, :], ind, is_auto_spectrum=True, use_triu_row_major=True, convert_to_2D=False, block_index='ell')\n",
    "\n",
    "# cl_LL_data_BNT_1D = utils.cl_3D_to_2D_or_1D(cl_3x2pt_data_BNT_5D[0, 0, :, :, :], ind, is_auto_spectrum=True, use_triu_row_major=True, convert_to_2D=False, block_index='ell')\n",
    "# cl_GL_data_BNT_1D = utils.cl_3D_to_2D_or_1D(cl_3x2pt_data_BNT_5D[1, 0, :, :, :], ind, is_auto_spectrum=False, use_triu_row_major=True, convert_to_2D=False, block_index='ell')\n",
    "# cl_GG_data_BNT_1D = utils.cl_3D_to_2D_or_1D(cl_3x2pt_data_BNT_5D[1, 1, :, :, :], ind, is_auto_spectrum=True, use_triu_row_major=True, convert_to_2D=False, block_index='ell')"
   ]
  },
  {
   "cell_type": "code",
   "execution_count": null,
   "id": "7ff9d837",
   "metadata": {},
   "outputs": [],
   "source": [
    "# concatenate\n",
    "cl_3x2pt_theory_1D = np.concatenate((cl_LL_theory_1D, cl_GL_theory_1D, cl_GG_theory_1D))\n",
    "cl_3x2pt_data_1D = np.concatenate((cl_LL_data_1D, cl_GL_data_1D, cl_GG_data_1D))\n",
    "\n",
    "cl_3x2pt_theory_BNT_1D = np.concatenate((cl_LL_theory_BNT_1D, cl_GL_theory_BNT_1D, cl_GG_theory_BNT_1D))\n",
    "cl_3x2pt_data_BNT_1D = np.concatenate((cl_LL_data_BNT_1D, cl_GL_data_BNT_1D, cl_GG_data_BNT_1D))"
   ]
  },
  {
   "cell_type": "markdown",
   "id": "62467857",
   "metadata": {},
   "source": [
    "### Perform some tests on the flattened theory (/data) vector from Euclike, with/without BNT"
   ]
  },
  {
   "cell_type": "code",
   "execution_count": null,
   "id": "c69f4c77",
   "metadata": {},
   "outputs": [],
   "source": [
    "# import theory vector outputted directly from euclike.py (already flattened)\n",
    "cl_3x2pt_theory_BNT_euclike_1D = np.load('../input/test_chi2/from_euclike/photo_theory_vec_BNT_nsfid.npy')\n",
    "cl_3x2pt_data_BNT_euclike_1D = np.load('../input/test_chi2/from_euclike/photo_theory_vec_BNT_nsmod.npy')\n",
    "cl_3x2pt_theory_euclike_1D = np.load('../input/test_chi2/from_euclike/photo_theory_vec_nsfid.npy')\n",
    "cl_3x2pt_data_euclike_1D = np.load('../input/test_chi2/from_euclike/photo_theory_vec_nsmod.npy')"
   ]
  },
  {
   "cell_type": "code",
   "execution_count": null,
   "id": "dbdb2f41",
   "metadata": {},
   "outputs": [],
   "source": [
    "print(np.allclose(cl_3x2pt_theory_1D, cl_3x2pt_theory_euclike_1D, rtol=1e-8, atol=0))\n",
    "plt.plot(cl_3x2pt_theory_1D, label='cl_3x2pt_theory_1D')\n",
    "plt.plot(cl_3x2pt_theory_euclike_1D, label='cl_3x2pt_theory_euclike_1D', ls='--')\n",
    "plt.yscale('log')\n",
    "plt.legend()"
   ]
  },
  {
   "cell_type": "code",
   "execution_count": null,
   "id": "67e45e33",
   "metadata": {},
   "outputs": [],
   "source": [
    "print(np.allclose(cl_3x2pt_theory_BNT_euclike_1D[:1100], cl_3x2pt_theory_BNT_1D[:1100], rtol=1e-8, atol=0))\n",
    "plt.plot(cl_3x2pt_theory_BNT_1D, label='cl_3x2pt_theory_BNT_1D')\n",
    "plt.plot(cl_3x2pt_theory_BNT_euclike_1D, label='cl_3x2pt_theory_BNT_euclike_1D', ls='--')\n",
    "# plt.xlim(0, 1300)\n",
    "plt.yscale('log')\n",
    "plt.legend()"
   ]
  },
  {
   "cell_type": "markdown",
   "id": "95a85d7e",
   "metadata": {},
   "source": [
    "### BNT transform the covariance and compute $\\chi^2$"
   ]
  },
  {
   "cell_type": "code",
   "execution_count": null,
   "id": "60e00b2f",
   "metadata": {},
   "outputs": [],
   "source": [
    "# BNT transform covariance\n",
    "X_dict = build_X_matrix_BNT(BNT_matrix)\n",
    "cov_WL_BNT_6D = cov_BNT_transform(cov_WL_6D, X_dict, 'L', 'L', 'L', 'L')\n",
    "cov_3x2pt_BNT_10D_dict = cov_3x2pt_BNT_transform(cov_3x2pt_10D_dict, X_dict)\n",
    "\n",
    "# reshape to 4D\n",
    "cov_WL_BNT_4D = utils.cov_6D_to_4D(cov_WL_BNT_6D, nbl, zpairs_auto, ind[:zpairs_auto])\n",
    "cov_3x2pt_BNT_4D = utils.cov_3x2pt_dict_10D_to_4D(cov_3x2pt_BNT_10D_dict, probe_ordering, nbl, zbins, ind.copy(), GL_or_LG)\n",
    "\n",
    "# reshape to 2D\n",
    "cov_WL_BNT_2D = utils.cov_4D_to_2D(cov_WL_BNT_4D, block_index=block_index)\n",
    "cov_3x2pt_BNT_2DCLOE = utils.cov_4D_to_2DCLOE_3x2pt(cov_3x2pt_BNT_4D, nbl, zbins)"
   ]
  },
  {
   "cell_type": "code",
   "execution_count": null,
   "id": "fea65b60",
   "metadata": {},
   "outputs": [],
   "source": [
    "# compute chi2\n",
    "chi2_3x2pt_noBNT = (cl_3x2pt_data_1D - cl_3x2pt_theory_1D) @ np.linalg.inv(cov_3x2pt_2DCLOE) @ (cl_3x2pt_data_1D - cl_3x2pt_theory_1D)\n",
    "chi2_3x2pt_BNT = (cl_3x2pt_data_BNT_1D - cl_3x2pt_theory_BNT_1D) @ np.linalg.inv(cov_3x2pt_BNT_2DCLOE) @ (cl_3x2pt_data_BNT_1D - cl_3x2pt_theory_BNT_1D)\n",
    "\n",
    "chi2_LL_noBNT = (cl_LL_data_1D - cl_LL_theory_1D) @ np.linalg.inv(cov_WL_2D) @ (cl_LL_data_1D - cl_LL_theory_1D)\n",
    "chi2_LL_BNT = (cl_LL_data_BNT_1D - cl_LL_theory_BNT_1D) @ np.linalg.inv(cov_WL_BNT_2D) @ (cl_LL_data_BNT_1D - cl_LL_theory_BNT_1D)"
   ]
  },
  {
   "cell_type": "code",
   "execution_count": null,
   "id": "c83dab58",
   "metadata": {},
   "outputs": [],
   "source": [
    "print('chi squared 3x2pt, no BNT = ', chi2_3x2pt_noBNT)\n",
    "print('chi squared 3x2pt, BNT = ', chi2_3x2pt_BNT)\n",
    "print('chi squared LL, no BNT = ', chi2_LL_noBNT)\n",
    "print('chi squared LL, BNT = ', chi2_LL_BNT)"
   ]
  },
  {
   "cell_type": "markdown",
   "id": "8d017ce2",
   "metadata": {},
   "source": [
    "### Compute and save covariance with fiducial cls from euclike"
   ]
  },
  {
   "cell_type": "code",
   "execution_count": null,
   "id": "04f983d5",
   "metadata": {},
   "outputs": [],
   "source": [
    "# get photo data from Euclike and reshape it\n",
    "cl_LL_euclike_1d = np.load(f'/Users/davide/Documents/Lavoro/Programmi/cov_for_santi/input/test_chi2/from_euclike/photodata_LL.npy')\n",
    "cl_GL_euclike_1d = np.load(f'/Users/davide/Documents/Lavoro/Programmi/cov_for_santi/input/test_chi2/from_euclike/photodata_GL.npy')\n",
    "cl_GG_euclike_1d = np.load(f'/Users/davide/Documents/Lavoro/Programmi/cov_for_santi/input/test_chi2/from_euclike/photodata_GG.npy')\n",
    "\n",
    "cl_LL_BNT_euclike_1d = np.load(f'/Users/davide/Documents/Lavoro/Programmi/cov_for_santi/input/test_chi2/from_euclike/photodata_BNT_LL.npy')\n",
    "cl_GL_BNT_euclike_1d = np.load(f'/Users/davide/Documents/Lavoro/Programmi/cov_for_santi/input/test_chi2/from_euclike/photodata_BNT_GL.npy')\n",
    "cl_GG_BNT_euclike_1d = np.load(f'/Users/davide/Documents/Lavoro/Programmi/cov_for_santi/input/test_chi2/from_euclike/photodata_BNT_GG.npy')\n",
    "\n",
    "cov_euclike_import = np.load(f'/Users/davide/Documents/Lavoro/Programmi/cov_for_santi/input/test_chi2/from_euclike/cov_from_euclike.npy')\n",
    "cov_BNT_euclike_import = np.load(f'/Users/davide/Documents/Lavoro/Programmi/cov_for_santi/input/test_chi2/from_euclike/cov_BNT_from_euclike.npy')"
   ]
  },
  {
   "cell_type": "code",
   "execution_count": null,
   "id": "a77a4cfc",
   "metadata": {},
   "outputs": [],
   "source": [
    "cl_3x2pt_euclike_1d = np.concatenate((cl_LL_euclike_1d, cl_GL_euclike_1d, cl_GG_euclike_1d))\n",
    "cl_3x2pt_BNT_euclike_1d = np.concatenate((cl_LL_BNT_euclike_1d, cl_GL_BNT_euclike_1d, cl_GG_BNT_euclike_1d))"
   ]
  },
  {
   "cell_type": "code",
   "execution_count": null,
   "id": "5e11016b",
   "metadata": {},
   "outputs": [],
   "source": [
    "# these are also from euclike, but newer. They are the same as the ones above\n",
    "data_vector_phot =  np.load('/Users/davide/Documents/Lavoro/Programmi/cov_for_santi/input/test_chi2/from_euclike/data_vector_phot.npy')\n",
    "data_vector_phot_BNT =  np.load('/Users/davide/Documents/Lavoro/Programmi/cov_for_santi/input/test_chi2/from_euclike/data_vector_phot_BNT.npy')\n",
    "\n",
    "cov_matrix_phot =  np.load('/Users/davide/Documents/Lavoro/Programmi/cov_for_santi/input/test_chi2/from_euclike/cov_matrix_phot.npy')\n",
    "cov_matrix_phot_BNT =  np.load('/Users/davide/Documents/Lavoro/Programmi/cov_for_santi/input/test_chi2/from_euclike/cov_matrix_phot_BNT.npy')"
   ]
  },
  {
   "cell_type": "code",
   "execution_count": null,
   "id": "513dfd39",
   "metadata": {},
   "outputs": [],
   "source": [
    "assert np.array_equal(data_vector_phot, cl_3x2pt_euclike_1d), 'data vector not equal'\n",
    "assert np.array_equal(data_vector_phot_BNT, cl_3x2pt_BNT_euclike_1d), 'data vector BNT not equal'"
   ]
  },
  {
   "cell_type": "code",
   "execution_count": null,
   "id": "0c310caf",
   "metadata": {},
   "outputs": [],
   "source": [
    "# construct 3x2pt 5d datavector to construct the covariance\n",
    "cl_3x2pt_euclike_5d = cl_1d_to_3x2pt_5d(cl_LL_euclike_1d, cl_GL_euclike_1d, cl_GG_euclike_1d)\n",
    "cl_3x2pt_BNT_euclike_5d = cl_1d_to_3x2pt_5d(cl_LL_BNT_euclike_1d, cl_GL_BNT_euclike_1d, cl_GG_BNT_euclike_1d)"
   ]
  },
  {
   "cell_type": "code",
   "execution_count": null,
   "id": "0b79c072",
   "metadata": {},
   "outputs": [],
   "source": [
    "# construct covariance\n",
    "cov_3x2pt_10D_arr = utils.covariance_einsum(cl_3x2pt_theory_5D, noise_3x2pt_5D, fsky, ell_values, delta_ell)\n",
    "cov_3x2pt_euclike_10D_arr = utils.covariance_einsum(cl_3x2pt_euclike_5d, noise_3x2pt_5D, fsky, ell_values, delta_ell)"
   ]
  },
  {
   "cell_type": "code",
   "execution_count": null,
   "id": "9198ebee",
   "metadata": {},
   "outputs": [],
   "source": [
    "# BNT transform covariance\n",
    "X_dict = build_X_matrix_BNT(BNT_matrix)\n",
    "\n",
    "# cov_3x2pt_10D_dict = utils.cov_10D_array_to_dict(cov_3x2pt_10D_arr)  # not important, equivalent to the array above\n",
    "cov_3x2pt_euclike_10D_dict = utils.cov_10D_array_to_dict(cov_3x2pt_euclike_10D_arr)  # not important, equivalent to the array above\n",
    "\n",
    "# cov_3x2pt_BNT_10D_dict = cov_3x2pt_BNT_transform(cov_3x2pt_10D_dict, X_dict)\n",
    "cov_3x2pt_BNT_euclike_10D_dict = cov_3x2pt_BNT_transform(cov_3x2pt_euclike_10D_dict, X_dict)\n",
    "\n",
    "# reshape to 4D\n",
    "# cov_3x2pt_4D = utils.cov_3x2pt_dict_10D_to_4D(cov_3x2pt_10D_dict, probe_ordering, nbl, zbins, ind.copy(), GL_or_LG)\n",
    "cov_3x2pt_euclike_4D = utils.cov_3x2pt_dict_10D_to_4D(cov_3x2pt_euclike_10D_dict, probe_ordering, nbl, zbins, ind.copy(), GL_or_LG)\n",
    "# cov_3x2pt_BNT_4D = utils.cov_3x2pt_dict_10D_to_4D(cov_3x2pt_BNT_10D_dict, probe_ordering, nbl, zbins, ind.copy(), GL_or_LG)\n",
    "cov_3x2pt_BNT_euclike_4D = utils.cov_3x2pt_dict_10D_to_4D(cov_3x2pt_BNT_euclike_10D_dict, probe_ordering, nbl, zbins, ind.copy(), GL_or_LG)\n",
    "\n",
    "# reshape to 2D\n",
    "cov_3x2pt_euclike_2DCLOE = utils.cov_4D_to_2DCLOE_3x2pt(cov_3x2pt_euclike_4D, nbl, zbins)\n",
    "cov_3x2pt_BNT_euclike_2DCLOE = utils.cov_4D_to_2DCLOE_3x2pt(cov_3x2pt_BNT_euclike_4D, nbl, zbins)"
   ]
  },
  {
   "cell_type": "code",
   "execution_count": null,
   "id": "31bbd7cc",
   "metadata": {},
   "outputs": [],
   "source": [
    "assert np.array_equal(cov_3x2pt_euclike_2DCLOE, cov_euclike_import), 'cov_3x2pt_euclike_2DCLOE != cov_euclike_import'\n",
    "assert np.array_equal(cov_matrix_phot, cov_euclike_import), 'cov_matrix_phot != cov_euclike_import'\n",
    "\n",
    "assert np.array_equal(cov_3x2pt_BNT_euclike_2DCLOE, cov_BNT_euclike_import), 'cov_3x2pt_BNT_euclike_2DCLOE != cov_BNT_euclike_import'\n",
    "assert np.array_equal(cov_matrix_phot_BNT, cov_BNT_euclike_import), 'cov_3x2pt_BNT_euclike_2DCLOE != cov_BNT_euclike_import'\n",
    "\n",
    "assert not np.array_equal(cov_euclike_import, cov_BNT_euclike_import), 'cov_euclike_import == cov_BNT_euclike_import, they should not be equal'"
   ]
  },
  {
   "cell_type": "code",
   "execution_count": null,
   "id": "5afdbf3e",
   "metadata": {},
   "outputs": [],
   "source": []
  },
  {
   "cell_type": "code",
   "execution_count": null,
   "id": "743d8d5c",
   "metadata": {},
   "outputs": [],
   "source": [
    "# compute chi2\n",
    "chi2_BNT_euclike = cl_3x2pt_BNT_euclike_1d @ np.linalg.inv(cov_BNT_euclike_import) @ cl_3x2pt_BNT_euclike_1d\n",
    "chi2_euclike = cl_3x2pt_euclike_1d @ np.linalg.inv(cov_euclike_import) @ cl_3x2pt_euclike_1d"
   ]
  },
  {
   "cell_type": "code",
   "execution_count": null,
   "id": "9e1ed07c",
   "metadata": {},
   "outputs": [],
   "source": [
    "print('chi2_BNT_euclike', chi2_BNT_euclike)\n",
    "print('chi2_euclike', chi2_euclike)"
   ]
  },
  {
   "cell_type": "code",
   "execution_count": null,
   "id": "dbec3011",
   "metadata": {},
   "outputs": [],
   "source": [
    "np.save('../output/CovMat-3x2pt-Gauss-20Bins-probe_ell_zpair_new.npy', cov_3x2pt_euclike_2DCLOE)\n",
    "np.save('../output/CovMat-3x2pt-BNT-Gauss-20Bins-probe_ell_zpair_new.npy', cov_3x2pt_BNT_euclike_2DCLOE)"
   ]
  },
  {
   "cell_type": "markdown",
   "id": "60443987",
   "metadata": {},
   "source": [
    "### Check masked data vector and covariance from euclike"
   ]
  },
  {
   "cell_type": "code",
   "execution_count": null,
   "id": "3802ab17",
   "metadata": {},
   "outputs": [],
   "source": [
    "chi2_from_el = data_vector_phot @ np.linalg.inv(cov_matrix_phot) @ data_vector_phot"
   ]
  },
  {
   "cell_type": "code",
   "execution_count": null,
   "id": "8e4ffa00",
   "metadata": {},
   "outputs": [],
   "source": [
    "print('chi2_from_el', chi2_from_el)"
   ]
  },
  {
   "cell_type": "markdown",
   "id": "7785b2dc",
   "metadata": {},
   "source": [
    "### Checkeverything I could save from euclike, because I'm desperate"
   ]
  },
  {
   "cell_type": "code",
   "execution_count": null,
   "id": "c01d5ed3",
   "metadata": {},
   "outputs": [],
   "source": [
    "masked_theory_vec =  np.load('/Users/davide/Documents/Lavoro/Programmi/cov_for_santi/input/test_chi2/from_euclike/18_04_2023/masked_theory_vec.npy')\n",
    "masked_theory_vec_BNT =  np.load('/Users/davide/Documents/Lavoro/Programmi/cov_for_santi/input/test_chi2/from_euclike/18_04_2023/masked_theory_vec_BNT.npy')\n",
    "\n",
    "photo_theory_vec =  np.load('/Users/davide/Documents/Lavoro/Programmi/cov_for_santi/input/test_chi2/from_euclike/18_04_2023/photo_theory_vec.npy')\n",
    "photo_theory_vec_BNT =  np.load('/Users/davide/Documents/Lavoro/Programmi/cov_for_santi/input/test_chi2/from_euclike/18_04_2023/photo_theory_vec_BNT.npy')\n",
    "\n",
    "masked_data_vector_phot =  np.load('/Users/davide/Documents/Lavoro/Programmi/cov_for_santi/input/test_chi2/from_euclike/18_04_2023/masked_data_vector_phot.npy')\n",
    "masked_data_vector_phot_BNT =  np.load('/Users/davide/Documents/Lavoro/Programmi/cov_for_santi/input/test_chi2/from_euclike/18_04_2023/masked_data_vector_phot_BNT.npy')\n",
    "\n",
    "cov_matrix_phot =  np.load('/Users/davide/Documents/Lavoro/Programmi/cov_for_santi/input/test_chi2/from_euclike/18_04_2023/cov_matrix_phot.npy')\n",
    "cov_matrix_phot_BNT =  np.load('/Users/davide/Documents/Lavoro/Programmi/cov_for_santi/input/test_chi2/from_euclike/18_04_2023/cov_matrix_phot_BNT.npy')\n",
    "\n",
    "masked_cov_matrix_phot =  np.load('/Users/davide/Documents/Lavoro/Programmi/cov_for_santi/input/test_chi2/from_euclike/18_04_2023/masked_cov_matrix_phot.npy')\n",
    "masked_cov_matrix_phot_BNT =  np.load('/Users/davide/Documents/Lavoro/Programmi/cov_for_santi/input/test_chi2/from_euclike/18_04_2023/masked_cov_matrix_phot_BNT.npy')"
   ]
  },
  {
   "cell_type": "code",
   "execution_count": null,
   "id": "7207c3d0",
   "metadata": {},
   "outputs": [],
   "source": [
    "# check if the datavectors and covariances change as they should when applying the BNT\n",
    "assert not np.array_equal(masked_data_vector_phot, masked_data_vector_phot_BNT), 'masked_data_vector_phot == masked_data_vector_phot_BNT, they should not be equal'\n",
    "assert not np.array_equal(masked_cov_matrix_phot, masked_cov_matrix_phot_BNT), 'masked_cov_matrix_phot == masked_cov_matrix_phot_BNT, they should not be equal'\n",
    "assert not np.array_equal(masked_theory_vec, masked_theory_vec_BNT), 'masked_theory_vec == masked_theory_vec_BNT, they should not be equal'\n",
    "assert not np.array_equal(photo_theory_vec, photo_theory_vec_BNT), 'photo_theory_vec == photo_theory_vec_BNT, they should not be equal'\n",
    "assert not np.array_equal(cov_matrix_phot, cov_matrix_phot_BNT), 'cov_matrix_phot == cov_matrix_phot_BNT, they should not be equal'"
   ]
  },
  {
   "cell_type": "code",
   "execution_count": null,
   "id": "15acf015",
   "metadata": {},
   "outputs": [],
   "source": [
    "# this is the chi2 computed in euclike, I get the same value (which should be equale for BNT and non-BNT!!)\n",
    "chi2 = (masked_theory_vec - masked_data_vector_phot) @ np.linalg.inv(masked_cov_matrix_phot) @ (masked_theory_vec - masked_data_vector_phot)\n",
    "chi2_BNT = (masked_theory_vec_BNT - masked_data_vector_phot_BNT) @ np.linalg.inv(masked_cov_matrix_phot_BNT) @ (masked_theory_vec_BNT - masked_data_vector_phot_BNT)\n",
    "print('chi2 euclike masked', chi2)\n",
    "print('chi2_BNT euclike masked', chi2_BNT)"
   ]
  },
  {
   "cell_type": "code",
   "execution_count": null,
   "id": "c1074ffb",
   "metadata": {},
   "outputs": [],
   "source": [
    "chi2 = (photo_theory_vec) @ np.linalg.inv(cov_matrix_phot) @ (photo_theory_vec)\n",
    "chi2_BNT = (photo_theory_vec_BNT) @ np.linalg.inv(cov_matrix_phot_BNT) @ (photo_theory_vec_BNT)\n",
    "print('chi2 euclike', chi2)\n",
    "print('chi2_BNT euclike', chi2_BNT)"
   ]
  }
 ],
 "metadata": {
  "kernelspec": {
   "display_name": "Python 3 (ipykernel)",
   "language": "python",
   "name": "python3"
  },
  "language_info": {
   "codemirror_mode": {
    "name": "ipython",
    "version": 3
   },
   "file_extension": ".py",
   "mimetype": "text/x-python",
   "name": "python",
   "nbconvert_exporter": "python",
   "pygments_lexer": "ipython3",
   "version": "3.9.13"
  }
 },
 "nbformat": 4,
 "nbformat_minor": 5
}
